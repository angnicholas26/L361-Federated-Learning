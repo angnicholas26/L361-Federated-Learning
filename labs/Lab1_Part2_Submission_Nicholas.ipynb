{
  "cells": [
    {
      "cell_type": "markdown",
      "metadata": {
        "id": "wTR0VzOm2B5d"
      },
      "source": [
        "# 0. Marking and Guidelines\n",
        "---\n",
        "***IMPORTANT***\n",
        "\n",
        "> The **attendance** and **active participation** in the **lab sessions** is **strongly recommended** and will be considered for grading.\n",
        ">\n",
        "> Save a copy of this notebook into your Drive before you start\n",
        ">\n",
        "> Please attempt all the **questions** marked for your **group** (Part II ✅ | Part III/MPhil ✅).\n",
        ">\n",
        "> Please, provide your answers in a **new cell below the question cell**. You can make as many new cells as you need.\n",
        "\n",
        "Please submit a `.zip` file, containing both parts, consisting of:\n",
        "1. A text file with a **publicly** visible link to your notebooks in GitHub.\n",
        "2. A **downloaded copy** (`.ipynb`) of your notebooks or your zipped cloned GitHub repo. You may treat these as a report---we will not be re-executing the code you used to produce the answers unless required.\n",
        "\n",
        "\n",
        "Feel free to attempt more in case you find yourself enjoying the material!\n",
        "If you have any questions, please ask them to the teaching assistants.\n",
        "Are you interested in knowing more about federated learning and related topics? Reach out to the teaching assistants for additional resources and ask more about the current research projects."
      ]
    },
    {
      "cell_type": "markdown",
      "metadata": {
        "id": "Y1P9epXi-IZ0"
      },
      "source": [
        "## Dependencies\n",
        "---\n"
      ]
    },
    {
      "cell_type": "code",
      "execution_count": 1,
      "metadata": {
        "id": "fTM8comw-IZ2",
        "colab": {
          "base_uri": "https://localhost:8080/",
          "height": 1000
        },
        "outputId": "b3ae744f-ad00-48d6-bd78-c8dab2c30b3e"
      },
      "outputs": [
        {
          "output_type": "stream",
          "name": "stdout",
          "text": [
            "\u001b[?25l   \u001b[90m━━━━━━━━━━━━━━━━━━━━━━━━━━━━━━━━━━━━━━━━\u001b[0m \u001b[32m0.0/1.8 MB\u001b[0m \u001b[31m?\u001b[0m eta \u001b[36m-:--:--\u001b[0m\r\u001b[2K   \u001b[91m━━\u001b[0m\u001b[90m╺\u001b[0m\u001b[90m━━━━━━━━━━━━━━━━━━━━━━━━━━━━━━━━━━━━━\u001b[0m \u001b[32m0.1/1.8 MB\u001b[0m \u001b[31m3.6 MB/s\u001b[0m eta \u001b[36m0:00:01\u001b[0m\r\u001b[2K   \u001b[91m━━━━━━━━━━━━━━━\u001b[0m\u001b[91m╸\u001b[0m\u001b[90m━━━━━━━━━━━━━━━━━━━━━━━━\u001b[0m \u001b[32m0.7/1.8 MB\u001b[0m \u001b[31m10.9 MB/s\u001b[0m eta \u001b[36m0:00:01\u001b[0m\r\u001b[2K   \u001b[91m━━━━━━━━━━━━━━━━━━━━━━━━━━━━━━━━━━━━━━━\u001b[0m\u001b[91m╸\u001b[0m \u001b[32m1.8/1.8 MB\u001b[0m \u001b[31m21.7 MB/s\u001b[0m eta \u001b[36m0:00:01\u001b[0m\r\u001b[2K   \u001b[91m━━━━━━━━━━━━━━━━━━━━━━━━━━━━━━━━━━━━━━━\u001b[0m\u001b[91m╸\u001b[0m \u001b[32m1.8/1.8 MB\u001b[0m \u001b[31m21.7 MB/s\u001b[0m eta \u001b[36m0:00:01\u001b[0m\r\u001b[2K   \u001b[90m━━━━━━━━━━━━━━━━━━━━━━━━━━━━━━━━━━━━━━━━\u001b[0m \u001b[32m1.8/1.8 MB\u001b[0m \u001b[31m11.3 MB/s\u001b[0m eta \u001b[36m0:00:00\u001b[0m\n",
            "\u001b[?25hCollecting git+https://github.com/Iacob-Alexandru-Andrei/flower.git@teaching\n",
            "  Cloning https://github.com/Iacob-Alexandru-Andrei/flower.git (to revision teaching) to /tmp/pip-req-build-at0dtukg\n",
            "  Running command git clone --filter=blob:none --quiet https://github.com/Iacob-Alexandru-Andrei/flower.git /tmp/pip-req-build-at0dtukg\n",
            "  Running command git checkout -b teaching --track origin/teaching\n",
            "  Switched to a new branch 'teaching'\n",
            "  Branch 'teaching' set up to track remote branch 'teaching' from 'origin'.\n",
            "  Resolved https://github.com/Iacob-Alexandru-Andrei/flower.git to commit 1c4fcc1d4a6e8022ddf6f94ebedef1b8e70e0fc4\n",
            "  Installing build dependencies ... \u001b[?25l\u001b[?25hdone\n",
            "  Getting requirements to build wheel ... \u001b[?25l\u001b[?25hdone\n",
            "  Preparing metadata (pyproject.toml) ... \u001b[?25l\u001b[?25hdone\n",
            "Requirement already satisfied: torch in /usr/local/lib/python3.11/dist-packages (2.5.1+cu124)\n",
            "Requirement already satisfied: torchvision in /usr/local/lib/python3.11/dist-packages (0.20.1+cu124)\n",
            "Collecting ray==2.6.3\n",
            "  Downloading ray-2.6.3-cp311-cp311-manylinux2014_x86_64.whl.metadata (12 kB)\n",
            "Requirement already satisfied: click>=7.0 in /usr/local/lib/python3.11/dist-packages (from ray==2.6.3) (8.1.8)\n",
            "Requirement already satisfied: filelock in /usr/local/lib/python3.11/dist-packages (from ray==2.6.3) (3.17.0)\n",
            "Requirement already satisfied: jsonschema in /usr/local/lib/python3.11/dist-packages (from ray==2.6.3) (4.23.0)\n",
            "Requirement already satisfied: msgpack<2.0.0,>=1.0.0 in /usr/local/lib/python3.11/dist-packages (from ray==2.6.3) (1.1.0)\n",
            "Requirement already satisfied: packaging in /usr/local/lib/python3.11/dist-packages (from ray==2.6.3) (24.2)\n",
            "Requirement already satisfied: protobuf!=3.19.5,>=3.15.3 in /usr/local/lib/python3.11/dist-packages (from ray==2.6.3) (4.25.6)\n",
            "Requirement already satisfied: pyyaml in /usr/local/lib/python3.11/dist-packages (from ray==2.6.3) (6.0.2)\n",
            "Requirement already satisfied: aiosignal in /usr/local/lib/python3.11/dist-packages (from ray==2.6.3) (1.3.2)\n",
            "Requirement already satisfied: frozenlist in /usr/local/lib/python3.11/dist-packages (from ray==2.6.3) (1.5.0)\n",
            "Requirement already satisfied: requests in /usr/local/lib/python3.11/dist-packages (from ray==2.6.3) (2.32.3)\n",
            "Requirement already satisfied: grpcio>=1.42.0 in /usr/local/lib/python3.11/dist-packages (from ray==2.6.3) (1.70.0)\n",
            "Requirement already satisfied: numpy>=1.19.3 in /usr/local/lib/python3.11/dist-packages (from ray==2.6.3) (1.26.4)\n",
            "Collecting cryptography<42.0.0,>=41.0.2 (from flwr==1.7.0)\n",
            "  Downloading cryptography-41.0.7-cp37-abi3-manylinux_2_28_x86_64.whl.metadata (5.2 kB)\n",
            "Collecting iterators<0.0.3,>=0.0.2 (from flwr==1.7.0)\n",
            "  Downloading iterators-0.0.2-py3-none-any.whl.metadata (2.5 kB)\n",
            "Collecting protobuf!=3.19.5,>=3.15.3 (from ray==2.6.3)\n",
            "  Downloading protobuf-3.20.3-py2.py3-none-any.whl.metadata (720 bytes)\n",
            "Collecting pycryptodome<4.0.0,>=3.18.0 (from flwr==1.7.0)\n",
            "  Downloading pycryptodome-3.21.0-cp36-abi3-manylinux_2_17_x86_64.manylinux2014_x86_64.whl.metadata (3.4 kB)\n",
            "Requirement already satisfied: typing-extensions>=4.8.0 in /usr/local/lib/python3.11/dist-packages (from torch) (4.12.2)\n",
            "Requirement already satisfied: networkx in /usr/local/lib/python3.11/dist-packages (from torch) (3.4.2)\n",
            "Requirement already satisfied: jinja2 in /usr/local/lib/python3.11/dist-packages (from torch) (3.1.5)\n",
            "Requirement already satisfied: fsspec in /usr/local/lib/python3.11/dist-packages (from torch) (2024.10.0)\n",
            "Collecting nvidia-cuda-nvrtc-cu12==12.4.127 (from torch)\n",
            "  Downloading nvidia_cuda_nvrtc_cu12-12.4.127-py3-none-manylinux2014_x86_64.whl.metadata (1.5 kB)\n",
            "Collecting nvidia-cuda-runtime-cu12==12.4.127 (from torch)\n",
            "  Downloading nvidia_cuda_runtime_cu12-12.4.127-py3-none-manylinux2014_x86_64.whl.metadata (1.5 kB)\n",
            "Collecting nvidia-cuda-cupti-cu12==12.4.127 (from torch)\n",
            "  Downloading nvidia_cuda_cupti_cu12-12.4.127-py3-none-manylinux2014_x86_64.whl.metadata (1.6 kB)\n",
            "Collecting nvidia-cudnn-cu12==9.1.0.70 (from torch)\n",
            "  Downloading nvidia_cudnn_cu12-9.1.0.70-py3-none-manylinux2014_x86_64.whl.metadata (1.6 kB)\n",
            "Collecting nvidia-cublas-cu12==12.4.5.8 (from torch)\n",
            "  Downloading nvidia_cublas_cu12-12.4.5.8-py3-none-manylinux2014_x86_64.whl.metadata (1.5 kB)\n",
            "Collecting nvidia-cufft-cu12==11.2.1.3 (from torch)\n",
            "  Downloading nvidia_cufft_cu12-11.2.1.3-py3-none-manylinux2014_x86_64.whl.metadata (1.5 kB)\n",
            "Collecting nvidia-curand-cu12==10.3.5.147 (from torch)\n",
            "  Downloading nvidia_curand_cu12-10.3.5.147-py3-none-manylinux2014_x86_64.whl.metadata (1.5 kB)\n",
            "Collecting nvidia-cusolver-cu12==11.6.1.9 (from torch)\n",
            "  Downloading nvidia_cusolver_cu12-11.6.1.9-py3-none-manylinux2014_x86_64.whl.metadata (1.6 kB)\n",
            "Collecting nvidia-cusparse-cu12==12.3.1.170 (from torch)\n",
            "  Downloading nvidia_cusparse_cu12-12.3.1.170-py3-none-manylinux2014_x86_64.whl.metadata (1.6 kB)\n",
            "Requirement already satisfied: nvidia-nccl-cu12==2.21.5 in /usr/local/lib/python3.11/dist-packages (from torch) (2.21.5)\n",
            "Requirement already satisfied: nvidia-nvtx-cu12==12.4.127 in /usr/local/lib/python3.11/dist-packages (from torch) (12.4.127)\n",
            "Collecting nvidia-nvjitlink-cu12==12.4.127 (from torch)\n",
            "  Downloading nvidia_nvjitlink_cu12-12.4.127-py3-none-manylinux2014_x86_64.whl.metadata (1.5 kB)\n",
            "Requirement already satisfied: triton==3.1.0 in /usr/local/lib/python3.11/dist-packages (from torch) (3.1.0)\n",
            "Requirement already satisfied: sympy==1.13.1 in /usr/local/lib/python3.11/dist-packages (from torch) (1.13.1)\n",
            "Requirement already satisfied: mpmath<1.4,>=1.1.0 in /usr/local/lib/python3.11/dist-packages (from sympy==1.13.1->torch) (1.3.0)\n",
            "Requirement already satisfied: pillow!=8.3.*,>=5.3.0 in /usr/local/lib/python3.11/dist-packages (from torchvision) (11.1.0)\n",
            "Requirement already satisfied: cffi>=1.12 in /usr/local/lib/python3.11/dist-packages (from cryptography<42.0.0,>=41.0.2->flwr==1.7.0) (1.17.1)\n",
            "Requirement already satisfied: MarkupSafe>=2.0 in /usr/local/lib/python3.11/dist-packages (from jinja2->torch) (3.0.2)\n",
            "Requirement already satisfied: attrs>=22.2.0 in /usr/local/lib/python3.11/dist-packages (from jsonschema->ray==2.6.3) (25.1.0)\n",
            "Requirement already satisfied: jsonschema-specifications>=2023.03.6 in /usr/local/lib/python3.11/dist-packages (from jsonschema->ray==2.6.3) (2024.10.1)\n",
            "Requirement already satisfied: referencing>=0.28.4 in /usr/local/lib/python3.11/dist-packages (from jsonschema->ray==2.6.3) (0.36.2)\n",
            "Requirement already satisfied: rpds-py>=0.7.1 in /usr/local/lib/python3.11/dist-packages (from jsonschema->ray==2.6.3) (0.22.3)\n",
            "Requirement already satisfied: charset-normalizer<4,>=2 in /usr/local/lib/python3.11/dist-packages (from requests->ray==2.6.3) (3.4.1)\n",
            "Requirement already satisfied: idna<4,>=2.5 in /usr/local/lib/python3.11/dist-packages (from requests->ray==2.6.3) (3.10)\n",
            "Requirement already satisfied: urllib3<3,>=1.21.1 in /usr/local/lib/python3.11/dist-packages (from requests->ray==2.6.3) (2.3.0)\n",
            "Requirement already satisfied: certifi>=2017.4.17 in /usr/local/lib/python3.11/dist-packages (from requests->ray==2.6.3) (2025.1.31)\n",
            "Requirement already satisfied: pycparser in /usr/local/lib/python3.11/dist-packages (from cffi>=1.12->cryptography<42.0.0,>=41.0.2->flwr==1.7.0) (2.22)\n",
            "Downloading ray-2.6.3-cp311-cp311-manylinux2014_x86_64.whl (57.1 MB)\n",
            "\u001b[2K   \u001b[90m━━━━━━━━━━━━━━━━━━━━━━━━━━━━━━━━━━━━━━━━\u001b[0m \u001b[32m57.1/57.1 MB\u001b[0m \u001b[31m15.0 MB/s\u001b[0m eta \u001b[36m0:00:00\u001b[0m\n",
            "\u001b[?25hDownloading nvidia_cublas_cu12-12.4.5.8-py3-none-manylinux2014_x86_64.whl (363.4 MB)\n",
            "\u001b[2K   \u001b[90m━━━━━━━━━━━━━━━━━━━━━━━━━━━━━━━━━━━━━━━━\u001b[0m \u001b[32m363.4/363.4 MB\u001b[0m \u001b[31m59.1 MB/s\u001b[0m eta \u001b[36m0:00:00\u001b[0m\n",
            "\u001b[?25hDownloading nvidia_cuda_cupti_cu12-12.4.127-py3-none-manylinux2014_x86_64.whl (13.8 MB)\n",
            "\u001b[2K   \u001b[90m━━━━━━━━━━━━━━━━━━━━━━━━━━━━━━━━━━━━━━━━\u001b[0m \u001b[32m13.8/13.8 MB\u001b[0m \u001b[31m107.4 MB/s\u001b[0m eta \u001b[36m0:00:00\u001b[0m\n",
            "\u001b[?25hDownloading nvidia_cuda_nvrtc_cu12-12.4.127-py3-none-manylinux2014_x86_64.whl (24.6 MB)\n",
            "\u001b[2K   \u001b[90m━━━━━━━━━━━━━━━━━━━━━━━━━━━━━━━━━━━━━━━━\u001b[0m \u001b[32m24.6/24.6 MB\u001b[0m \u001b[31m113.8 MB/s\u001b[0m eta \u001b[36m0:00:00\u001b[0m\n",
            "\u001b[?25hDownloading nvidia_cuda_runtime_cu12-12.4.127-py3-none-manylinux2014_x86_64.whl (883 kB)\n",
            "\u001b[2K   \u001b[90m━━━━━━━━━━━━━━━━━━━━━━━━━━━━━━━━━━━━━━━━\u001b[0m \u001b[32m883.7/883.7 kB\u001b[0m \u001b[31m35.7 MB/s\u001b[0m eta \u001b[36m0:00:00\u001b[0m\n",
            "\u001b[?25hDownloading nvidia_cudnn_cu12-9.1.0.70-py3-none-manylinux2014_x86_64.whl (664.8 MB)\n",
            "\u001b[2K   \u001b[90m━━━━━━━━━━━━━━━━━━━━━━━━━━━━━━━━━━━━━━━━\u001b[0m \u001b[32m664.8/664.8 MB\u001b[0m \u001b[31m27.8 MB/s\u001b[0m eta \u001b[36m0:00:00\u001b[0m\n",
            "\u001b[?25hDownloading nvidia_cufft_cu12-11.2.1.3-py3-none-manylinux2014_x86_64.whl (211.5 MB)\n",
            "\u001b[2K   \u001b[90m━━━━━━━━━━━━━━━━━━━━━━━━━━━━━━━━━━━━━━━━\u001b[0m \u001b[32m211.5/211.5 MB\u001b[0m \u001b[31m66.2 MB/s\u001b[0m eta \u001b[36m0:00:00\u001b[0m\n",
            "\u001b[?25hDownloading nvidia_curand_cu12-10.3.5.147-py3-none-manylinux2014_x86_64.whl (56.3 MB)\n",
            "\u001b[2K   \u001b[90m━━━━━━━━━━━━━━━━━━━━━━━━━━━━━━━━━━━━━━━━\u001b[0m \u001b[32m56.3/56.3 MB\u001b[0m \u001b[31m63.8 MB/s\u001b[0m eta \u001b[36m0:00:00\u001b[0m\n",
            "\u001b[?25hDownloading nvidia_cusolver_cu12-11.6.1.9-py3-none-manylinux2014_x86_64.whl (127.9 MB)\n",
            "\u001b[2K   \u001b[90m━━━━━━━━━━━━━━━━━━━━━━━━━━━━━━━━━━━━━━━━\u001b[0m \u001b[32m127.9/127.9 MB\u001b[0m \u001b[31m64.0 MB/s\u001b[0m eta \u001b[36m0:00:00\u001b[0m\n",
            "\u001b[?25hDownloading nvidia_cusparse_cu12-12.3.1.170-py3-none-manylinux2014_x86_64.whl (207.5 MB)\n",
            "\u001b[2K   \u001b[90m━━━━━━━━━━━━━━━━━━━━━━━━━━━━━━━━━━━━━━━━\u001b[0m \u001b[32m207.5/207.5 MB\u001b[0m \u001b[31m68.2 MB/s\u001b[0m eta \u001b[36m0:00:00\u001b[0m\n",
            "\u001b[?25hDownloading nvidia_nvjitlink_cu12-12.4.127-py3-none-manylinux2014_x86_64.whl (21.1 MB)\n",
            "\u001b[2K   \u001b[90m━━━━━━━━━━━━━━━━━━━━━━━━━━━━━━━━━━━━━━━━\u001b[0m \u001b[32m21.1/21.1 MB\u001b[0m \u001b[31m75.2 MB/s\u001b[0m eta \u001b[36m0:00:00\u001b[0m\n",
            "\u001b[?25hDownloading cryptography-41.0.7-cp37-abi3-manylinux_2_28_x86_64.whl (4.4 MB)\n",
            "\u001b[2K   \u001b[90m━━━━━━━━━━━━━━━━━━━━━━━━━━━━━━━━━━━━━━━━\u001b[0m \u001b[32m4.4/4.4 MB\u001b[0m \u001b[31m114.7 MB/s\u001b[0m eta \u001b[36m0:00:00\u001b[0m\n",
            "\u001b[?25hDownloading iterators-0.0.2-py3-none-any.whl (3.9 kB)\n",
            "Downloading protobuf-3.20.3-py2.py3-none-any.whl (162 kB)\n",
            "Downloading pycryptodome-3.21.0-cp36-abi3-manylinux_2_17_x86_64.manylinux2014_x86_64.whl (2.3 MB)\n",
            "\u001b[2K   \u001b[90m━━━━━━━━━━━━━━━━━━━━━━━━━━━━━━━━━━━━━━━━\u001b[0m \u001b[32m2.3/2.3 MB\u001b[0m \u001b[31m76.4 MB/s\u001b[0m eta \u001b[36m0:00:00\u001b[0m\n",
            "\u001b[?25hBuilding wheels for collected packages: flwr\n",
            "  Building wheel for flwr (pyproject.toml) ... \u001b[?25l\u001b[?25hdone\n",
            "  Created wheel for flwr: filename=flwr-1.7.0-py3-none-any.whl size=231058 sha256=1dd4026e953cc84734a76152ffe91c9b02b5eb974fb66c6c7a052ce811b12377\n",
            "  Stored in directory: /tmp/pip-ephem-wheel-cache-zjfupro6/wheels/f7/84/4f/213c2e8fddee802ed14165c6377a4dc5ac98d3c6a2e00fda49\n",
            "Successfully built flwr\n",
            "Installing collected packages: pycryptodome, protobuf, nvidia-nvjitlink-cu12, nvidia-curand-cu12, nvidia-cufft-cu12, nvidia-cuda-runtime-cu12, nvidia-cuda-nvrtc-cu12, nvidia-cuda-cupti-cu12, nvidia-cublas-cu12, iterators, nvidia-cusparse-cu12, nvidia-cudnn-cu12, cryptography, nvidia-cusolver-cu12, flwr, ray\n",
            "  Attempting uninstall: protobuf\n",
            "    Found existing installation: protobuf 4.25.6\n",
            "    Uninstalling protobuf-4.25.6:\n",
            "      Successfully uninstalled protobuf-4.25.6\n",
            "  Attempting uninstall: nvidia-nvjitlink-cu12\n",
            "    Found existing installation: nvidia-nvjitlink-cu12 12.5.82\n",
            "    Uninstalling nvidia-nvjitlink-cu12-12.5.82:\n",
            "      Successfully uninstalled nvidia-nvjitlink-cu12-12.5.82\n",
            "  Attempting uninstall: nvidia-curand-cu12\n",
            "    Found existing installation: nvidia-curand-cu12 10.3.6.82\n",
            "    Uninstalling nvidia-curand-cu12-10.3.6.82:\n",
            "      Successfully uninstalled nvidia-curand-cu12-10.3.6.82\n",
            "  Attempting uninstall: nvidia-cufft-cu12\n",
            "    Found existing installation: nvidia-cufft-cu12 11.2.3.61\n",
            "    Uninstalling nvidia-cufft-cu12-11.2.3.61:\n",
            "      Successfully uninstalled nvidia-cufft-cu12-11.2.3.61\n",
            "  Attempting uninstall: nvidia-cuda-runtime-cu12\n",
            "    Found existing installation: nvidia-cuda-runtime-cu12 12.5.82\n",
            "    Uninstalling nvidia-cuda-runtime-cu12-12.5.82:\n",
            "      Successfully uninstalled nvidia-cuda-runtime-cu12-12.5.82\n",
            "  Attempting uninstall: nvidia-cuda-nvrtc-cu12\n",
            "    Found existing installation: nvidia-cuda-nvrtc-cu12 12.5.82\n",
            "    Uninstalling nvidia-cuda-nvrtc-cu12-12.5.82:\n",
            "      Successfully uninstalled nvidia-cuda-nvrtc-cu12-12.5.82\n",
            "  Attempting uninstall: nvidia-cuda-cupti-cu12\n",
            "    Found existing installation: nvidia-cuda-cupti-cu12 12.5.82\n",
            "    Uninstalling nvidia-cuda-cupti-cu12-12.5.82:\n",
            "      Successfully uninstalled nvidia-cuda-cupti-cu12-12.5.82\n",
            "  Attempting uninstall: nvidia-cublas-cu12\n",
            "    Found existing installation: nvidia-cublas-cu12 12.5.3.2\n",
            "    Uninstalling nvidia-cublas-cu12-12.5.3.2:\n",
            "      Successfully uninstalled nvidia-cublas-cu12-12.5.3.2\n",
            "  Attempting uninstall: nvidia-cusparse-cu12\n",
            "    Found existing installation: nvidia-cusparse-cu12 12.5.1.3\n",
            "    Uninstalling nvidia-cusparse-cu12-12.5.1.3:\n",
            "      Successfully uninstalled nvidia-cusparse-cu12-12.5.1.3\n",
            "  Attempting uninstall: nvidia-cudnn-cu12\n",
            "    Found existing installation: nvidia-cudnn-cu12 9.3.0.75\n",
            "    Uninstalling nvidia-cudnn-cu12-9.3.0.75:\n",
            "      Successfully uninstalled nvidia-cudnn-cu12-9.3.0.75\n",
            "  Attempting uninstall: cryptography\n",
            "    Found existing installation: cryptography 43.0.3\n",
            "    Uninstalling cryptography-43.0.3:\n",
            "      Successfully uninstalled cryptography-43.0.3\n",
            "  Attempting uninstall: nvidia-cusolver-cu12\n",
            "    Found existing installation: nvidia-cusolver-cu12 11.6.3.83\n",
            "    Uninstalling nvidia-cusolver-cu12-11.6.3.83:\n",
            "      Successfully uninstalled nvidia-cusolver-cu12-11.6.3.83\n",
            "\u001b[31mERROR: pip's dependency resolver does not currently take into account all the packages that are installed. This behaviour is the source of the following dependency conflicts.\n",
            "tensorflow-metadata 1.16.1 requires protobuf<6.0.0dev,>=4.25.2; python_version >= \"3.11\", but you have protobuf 3.20.3 which is incompatible.\n",
            "grpcio-status 1.62.3 requires protobuf>=4.21.6, but you have protobuf 3.20.3 which is incompatible.\u001b[0m\u001b[31m\n",
            "\u001b[0mSuccessfully installed cryptography-41.0.7 flwr-1.7.0 iterators-0.0.2 nvidia-cublas-cu12-12.4.5.8 nvidia-cuda-cupti-cu12-12.4.127 nvidia-cuda-nvrtc-cu12-12.4.127 nvidia-cuda-runtime-cu12-12.4.127 nvidia-cudnn-cu12-9.1.0.70 nvidia-cufft-cu12-11.2.1.3 nvidia-curand-cu12-10.3.5.147 nvidia-cusolver-cu12-11.6.1.9 nvidia-cusparse-cu12-12.3.1.170 nvidia-nvjitlink-cu12-12.4.127 protobuf-3.20.3 pycryptodome-3.21.0 ray-2.6.3\n"
          ]
        },
        {
          "output_type": "display_data",
          "data": {
            "application/vnd.colab-display-data+json": {
              "pip_warning": {
                "packages": [
                  "google"
                ]
              },
              "id": "886318b72e914e1ea0473f43e3db5c20"
            }
          },
          "metadata": {}
        }
      ],
      "source": [
        "# `pip` could produce some errors. Do not worry about them.\n",
        "# The execution has been verified; it's working anyway.\n",
        "! pip install --quiet --upgrade \"pip\"\n",
        "! pip install --quiet matplotlib tqdm seaborn\n",
        "! pip install git+https://github.com/Iacob-Alexandru-Andrei/flower.git@teaching \\\n",
        "    torch torchvision ray==\"2.6.3\"\n"
      ]
    },
    {
      "cell_type": "code",
      "source": [
        "# download the `labs` folder from github\n",
        "!wget https://github.com/camlsys/L361-Federated-Learning/archive/release.zip\n",
        "!unzip release.zip\n",
        "!cp L361-Federated-Learning-release/labs . -r"
      ],
      "metadata": {
        "colab": {
          "base_uri": "https://localhost:8080/"
        },
        "collapsed": true,
        "id": "GAWLdR9wUtBp",
        "outputId": "b4a86409-d9c3-4d29-c02b-bd4f6728c91f"
      },
      "execution_count": 2,
      "outputs": [
        {
          "output_type": "stream",
          "name": "stdout",
          "text": [
            "--2025-02-10 20:49:24--  https://github.com/camlsys/L361-Federated-Learning/archive/release.zip\n",
            "Resolving github.com (github.com)... 20.27.177.113\n",
            "Connecting to github.com (github.com)|20.27.177.113|:443... connected.\n",
            "HTTP request sent, awaiting response... 302 Found\n",
            "Location: https://codeload.github.com/camlsys/L361-Federated-Learning/zip/refs/heads/release [following]\n",
            "--2025-02-10 20:49:24--  https://codeload.github.com/camlsys/L361-Federated-Learning/zip/refs/heads/release\n",
            "Resolving codeload.github.com (codeload.github.com)... 20.27.177.114\n",
            "Connecting to codeload.github.com (codeload.github.com)|20.27.177.114|:443... connected.\n",
            "HTTP request sent, awaiting response... 200 OK\n",
            "Length: unspecified [application/zip]\n",
            "Saving to: ‘release.zip’\n",
            "\n",
            "release.zip             [  <=>               ] 733.97K  2.45MB/s    in 0.3s    \n",
            "\n",
            "2025-02-10 20:49:25 (2.45 MB/s) - ‘release.zip’ saved [751587]\n",
            "\n",
            "Archive:  release.zip\n",
            "ef811c19298593fb89313211fdab6d887a06cc18\n",
            "   creating: L361-Federated-Learning-release/\n",
            "  inflating: L361-Federated-Learning-release/.gitattributes  \n",
            "  inflating: L361-Federated-Learning-release/.gitignore  \n",
            "  inflating: L361-Federated-Learning-release/.pre-commit-config.yaml  \n",
            "   creating: L361-Federated-Learning-release/.pre-commit/\n",
            " extracting: L361-Federated-Learning-release/.pre-commit/FILE_HEADER  \n",
            " extracting: L361-Federated-Learning-release/.python-version  \n",
            "   creating: L361-Federated-Learning-release/.vscode/\n",
            " extracting: L361-Federated-Learning-release/.vscode/ltex.dictionary.en-GB.txt  \n",
            "  inflating: L361-Federated-Learning-release/.vscode/settings.json  \n",
            "  inflating: L361-Federated-Learning-release/LICENSE  \n",
            "  inflating: L361-Federated-Learning-release/README.md  \n",
            "   creating: L361-Federated-Learning-release/assets/\n",
            "  inflating: L361-Federated-Learning-release/assets/client_execution_time_histo.png  \n",
            "  inflating: L361-Federated-Learning-release/assets/connected_and_rct_timeseries.jpeg  \n",
            "  inflating: L361-Federated-Learning-release/assets/device_per_round_timeseries.png  \n",
            "  inflating: L361-Federated-Learning-release/assets/fl_system_diagram.png  \n",
            "  inflating: L361-Federated-Learning-release/assets/flower.png  \n",
            "  inflating: L361-Federated-Learning-release/assets/server_network_traffic_timeseries.png  \n",
            "   creating: L361-Federated-Learning-release/labs/\n",
            "  inflating: L361-Federated-Learning-release/labs/L361_2025_Lab_1_From_Centralised_To_Federated_Part_1.ipynb  \n",
            "  inflating: L361-Federated-Learning-release/labs/L361_2025_Lab_1_From_Centralised_To_Federated_Part_2.ipynb  \n",
            "  inflating: L361-Federated-Learning-release/labs/L361_2025_Lab_2_1_Data_Heterogeneity.ipynb  \n",
            "  inflating: L361-Federated-Learning-release/labs/L361_2025_Lab_2_2_Devices_Heterogeneity.ipynb  \n",
            "  inflating: L361-Federated-Learning-release/labs/L361_2025_Lab_3_Privacy_And_Security_Part_1.ipynb  \n",
            "  inflating: L361-Federated-Learning-release/labs/L361_2025_Lab_3_Privacy_And_Security_Part_2.ipynb  \n",
            "  inflating: L361-Federated-Learning-release/labs/L361_2025_Labs_Guidelines.md  \n",
            "  inflating: L361-Federated-Learning-release/labs/__init__.py  \n",
            "   creating: L361-Federated-Learning-release/labs/common/\n",
            "  inflating: L361-Federated-Learning-release/labs/common/__init__.py  \n",
            "  inflating: L361-Federated-Learning-release/labs/common/client.py  \n",
            "  inflating: L361-Federated-Learning-release/labs/common/client_manager.py  \n",
            "  inflating: L361-Federated-Learning-release/labs/common/client_utils.py  \n",
            "  inflating: L361-Federated-Learning-release/labs/common/femnist_dataset.py  \n",
            "  inflating: L361-Federated-Learning-release/labs/common/lda_utils.py  \n",
            "   creating: L361-Federated-Learning-release/labs/common/secagg/\n",
            "  inflating: L361-Federated-Learning-release/labs/common/secagg/__init__.py  \n",
            "  inflating: L361-Federated-Learning-release/labs/common/secagg/client.py  \n",
            "  inflating: L361-Federated-Learning-release/labs/common/secagg/main.py  \n",
            "  inflating: L361-Federated-Learning-release/labs/common/secagg/strategy.py  \n",
            "  inflating: L361-Federated-Learning-release/labs/common/secagg/utils.py  \n",
            "  inflating: L361-Federated-Learning-release/labs/common/strategy.py  \n",
            "  inflating: L361-Federated-Learning-release/labs/device_info.tar.gz  \n",
            "  inflating: L361-Federated-Learning-release/labs/femnist.tar.gz  \n",
            "  inflating: L361-Federated-Learning-release/poetry.lock  \n",
            "   creating: L361-Federated-Learning-release/projects/\n",
            "  inflating: L361-Federated-Learning-release/projects/L361_2025_Final_Project_Page.md  \n",
            "  inflating: L361-Federated-Learning-release/projects/L361_2025_Part_II_Project_Guidelines.pdf  \n",
            "  inflating: L361-Federated-Learning-release/projects/L361_2025_Research_Project_Guidelines.pdf  \n",
            "  inflating: L361-Federated-Learning-release/pyproject.toml  \n"
          ]
        }
      ]
    },
    {
      "cell_type": "code",
      "source": [
        "# get the dataset\n",
        "!wget https://github.com/camlsys/L361-Federated-Learning/raw/refs/heads/release/labs/femnist.tar.gz?download=\n"
      ],
      "metadata": {
        "colab": {
          "base_uri": "https://localhost:8080/"
        },
        "collapsed": true,
        "id": "P1LEN3OHV_0p",
        "outputId": "37504d5b-da03-4f69-d5ff-5d054e0a297b"
      },
      "execution_count": 3,
      "outputs": [
        {
          "output_type": "stream",
          "name": "stdout",
          "text": [
            "--2025-02-10 20:49:25--  https://github.com/camlsys/L361-Federated-Learning/raw/refs/heads/release/labs/femnist.tar.gz?download=\n",
            "Resolving github.com (github.com)... 20.27.177.113\n",
            "Connecting to github.com (github.com)|20.27.177.113|:443... connected.\n",
            "HTTP request sent, awaiting response... 302 Found\n",
            "Location: https://media.githubusercontent.com/media/camlsys/L361-Federated-Learning/refs/heads/release/labs/femnist.tar.gz?download=true [following]\n",
            "--2025-02-10 20:49:26--  https://media.githubusercontent.com/media/camlsys/L361-Federated-Learning/refs/heads/release/labs/femnist.tar.gz?download=true\n",
            "Resolving media.githubusercontent.com (media.githubusercontent.com)... 185.199.110.133, 185.199.109.133, 185.199.111.133, ...\n",
            "Connecting to media.githubusercontent.com (media.githubusercontent.com)|185.199.110.133|:443... connected.\n",
            "HTTP request sent, awaiting response... 200 OK\n",
            "Length: 222525567 (212M) [application/octet-stream]\n",
            "Saving to: ‘femnist.tar.gz?download=’\n",
            "\n",
            "femnist.tar.gz?down 100%[===================>] 212.22M  81.9MB/s    in 2.6s    \n",
            "\n",
            "2025-02-10 20:49:42 (81.9 MB/s) - ‘femnist.tar.gz?download=’ saved [222525567/222525567]\n",
            "\n"
          ]
        }
      ]
    },
    {
      "cell_type": "code",
      "source": [
        "!mv femnist.tar.gz?download= femnist.tar.gz"
      ],
      "metadata": {
        "id": "Vjz3-aM1We_4"
      },
      "execution_count": 4,
      "outputs": []
    },
    {
      "cell_type": "markdown",
      "metadata": {
        "id": "_zl2hUa1-IZ2"
      },
      "source": [
        "### Imports.\n"
      ]
    },
    {
      "cell_type": "code",
      "execution_count": 6,
      "metadata": {
        "id": "Z7xM_SyD-IZ4"
      },
      "outputs": [],
      "source": [
        "import random\n",
        "from pathlib import Path\n",
        "import tarfile\n",
        "from typing import Any\n",
        "from logging import INFO\n",
        "from collections import defaultdict, OrderedDict\n",
        "from collections.abc import Sequence, Callable\n",
        "import numbers\n",
        "\n",
        "import numpy as np\n",
        "import torch\n",
        "from torch import nn\n",
        "from torch.nn import Module\n",
        "from torch.utils.data import DataLoader, Dataset\n",
        "from enum import IntEnum\n",
        "import flwr\n",
        "from flwr.server import History, ServerConfig\n",
        "from flwr.server.strategy import FedAvgM as FedAvg, Strategy\n",
        "from flwr.common import log, NDArrays, Scalar, Parameters, ndarrays_to_parameters\n",
        "from flwr.client.client import Client\n",
        "\n",
        "from labs.common.client_utils import (\n",
        "    Net,\n",
        "    load_femnist_dataset,\n",
        "    get_network_generator_cnn as get_network_generator,\n",
        "    train_femnist,\n",
        "    test_femnist,\n",
        "    save_history,\n",
        ")\n",
        "\n",
        "\n",
        "# Add new seeds here for easy autocomplete\n",
        "class Seeds(IntEnum):\n",
        "    \"\"\"Seeds for reproducibility.\"\"\"\n",
        "\n",
        "    DEFAULT = 1337\n",
        "\n",
        "\n",
        "np.random.seed(Seeds.DEFAULT)\n",
        "random.seed(Seeds.DEFAULT)\n",
        "torch.manual_seed(Seeds.DEFAULT)\n",
        "torch.backends.cudnn.benchmark = False\n",
        "torch.backends.cudnn.deterministic = True\n",
        "\n",
        "\n",
        "PathType = Path | str | None\n",
        "\n",
        "\n",
        "def get_device() -> str:\n",
        "    \"\"\"Get the device (cuda, mps, cpu).\"\"\"\n",
        "    device = \"cpu\"\n",
        "    if torch.cuda.is_available():\n",
        "        device = \"cuda\"\n",
        "    elif torch.backends.mps.is_available() and torch.backends.mps.is_built():\n",
        "        device = \"mps\"\n",
        "    return device"
      ]
    },
    {
      "cell_type": "code",
      "execution_count": 7,
      "metadata": {
        "id": "341p1c5o-IZ4",
        "colab": {
          "base_uri": "https://localhost:8080/"
        },
        "outputId": "ec68baec-c903-4dde-cd58-da68c0b5fd82"
      },
      "outputs": [
        {
          "output_type": "stream",
          "name": "stderr",
          "text": [
            "INFO flwr 2025-02-10 21:08:21,116 | <ipython-input-7-4c2a8b254464>:12 | Dataset extracted in /content/femnist\n",
            "INFO:flwr:Dataset extracted in /content/femnist\n"
          ]
        }
      ],
      "source": [
        "home_dir = Path.cwd()\n",
        "dataset_dir: Path = home_dir / \"femnist\"\n",
        "data_dir: Path = dataset_dir / \"data\"\n",
        "centralized_partition: Path = dataset_dir / \"client_data_mappings\" / \"centralized\"\n",
        "centralized_mapping: Path = dataset_dir / \"client_data_mappings\" / \"centralized\" / \"0\"\n",
        "federated_partition: Path = dataset_dir / \"client_data_mappings\" / \"fed_natural\"\n",
        "\n",
        "# Decompress dataset\n",
        "if not dataset_dir.exists():\n",
        "    with tarfile.open(home_dir / \"femnist.tar.gz\", \"r:gz\") as tar:\n",
        "        tar.extractall(path=home_dir)\n",
        "    log(INFO, \"Dataset extracted in %s\", dataset_dir)"
      ]
    },
    {
      "cell_type": "markdown",
      "metadata": {
        "id": "C6Q6qaJbjac5"
      },
      "source": [
        "## 5. Building a Flower FL client.\n",
        "---"
      ]
    },
    {
      "cell_type": "markdown",
      "metadata": {
        "id": "sUEPLGXCxhDe"
      },
      "source": [
        "Our first client abstraction shall be as simple as possible and will require adjustment to match the structure that the flower framework expects. However, it shall be conceptually identical and require only light API changes."
      ]
    },
    {
      "cell_type": "markdown",
      "metadata": {
        "id": "Dh6ebOepFBUC"
      },
      "source": [
        "Moving from centralised ML to server-client FL requires us to provide a means of communication between the respective server and clients. The Flower Framework is ML-framework agnostic and allows various means of transmitting model parameters in the federated network. Since you may have limited resources in these labs, we will only tangentially follow the Flower framework while keeping the computational requirements to a minimum.\n",
        "\n",
        "The simplest and most common encoding for models is the mere transmission of model parameters as NumPy arrays instead of the stateful PyTorch models. The following functions allow for seamless conversions between the two."
      ]
    },
    {
      "cell_type": "code",
      "execution_count": 8,
      "metadata": {
        "id": "Oh2wjiNsVTZI"
      },
      "outputs": [],
      "source": [
        "def set_model_parameters(net: Module, parameters: NDArrays) -> Module:\n",
        "    \"\"\"Put a set of parameters into the model object.\n",
        "\n",
        "    Parameters\n",
        "    ----------\n",
        "        net (Module): model object.\n",
        "        parameters (NDArrays): set of parameters to put into the model.\n",
        "\n",
        "    Returns\n",
        "    -------\n",
        "        Module: updated model object.\n",
        "    \"\"\"\n",
        "    weights = parameters\n",
        "    params_dict = zip(net.state_dict().keys(), weights, strict=False)\n",
        "    state_dict = OrderedDict({k: torch.from_numpy(np.copy(v)) for k, v in params_dict})\n",
        "    net.load_state_dict(state_dict, strict=True)\n",
        "    return net\n",
        "\n",
        "\n",
        "def get_model_parameters(net: Module) -> NDArrays:\n",
        "    \"\"\"Get the current model parameters as NDArrays.\n",
        "\n",
        "    Parameters\n",
        "    ----------\n",
        "        net (Module): current model object.\n",
        "\n",
        "    Returns\n",
        "    -------\n",
        "        NDArrays: set of parameters from the current model.\n",
        "    \"\"\"\n",
        "    return [val.cpu().numpy() for _, val in net.state_dict().items()]"
      ]
    },
    {
      "cell_type": "markdown",
      "metadata": {
        "id": "uHJGcNa7FBUD"
      },
      "source": [
        "With them in place, making the client abstraction compatible with Flower requires only a bit of boilerplate such as allowing NumPy arrays to be received and sent instead of PyTorch models. To achieve this, we provide a model generator capable of creating a network and using the received parameters.\n",
        "\n",
        "To keep client objects light in the memory when not used by the Flower FL simulator, the model generator is only called as needed for either `fit` or `evaluate`."
      ]
    },
    {
      "cell_type": "code",
      "execution_count": 9,
      "metadata": {
        "id": "SCqhfpnJobOZ"
      },
      "outputs": [],
      "source": [
        "class FlowerRayClient(flwr.client.NumPyClient):\n",
        "    \"\"\"Flower client for the FEMNIST dataset.\"\"\"\n",
        "\n",
        "    def __init__(\n",
        "        self,\n",
        "        cid: int,\n",
        "        partition_dir: Path,\n",
        "        model_generator: Callable[[], Module],\n",
        "    ) -> None:\n",
        "        \"\"\"Init the client with its unique id and the folder to load data from.\n",
        "\n",
        "        Parameters\n",
        "        ----------\n",
        "            cid (int): Unique client id for a client used to map it to its data\n",
        "                partition\n",
        "            partition_dir (Path): The directory containing data for each\n",
        "                client/client id\n",
        "            model_generator (Callable[[], Module]): The model generator function\n",
        "        \"\"\"\n",
        "        self.cid = cid\n",
        "        log(INFO, \"cid: %s\", self.cid)\n",
        "        self.partition_dir = partition_dir\n",
        "        self.device = str(\n",
        "            torch.device(\"cuda:0\" if torch.cuda.is_available() else \"cpu\")\n",
        "        )\n",
        "        self.model_generator: Callable[[], Module] = model_generator\n",
        "        self.properties: dict[str, Scalar] = {\"tensor_type\": \"numpy.ndarray\"}\n",
        "\n",
        "    def set_parameters(self, parameters: NDArrays) -> Module:\n",
        "        \"\"\"Load weights inside the network.\n",
        "\n",
        "        Parameters\n",
        "        ----------\n",
        "            parameters (NDArrays): set of weights to be loaded.\n",
        "\n",
        "        Returns\n",
        "        -------\n",
        "            [Module]: Network with new set of weights.\n",
        "        \"\"\"\n",
        "        net = self.model_generator()\n",
        "        return set_model_parameters(net, parameters)\n",
        "\n",
        "    def get_parameters(self, config: dict[str, Scalar]) -> NDArrays:\n",
        "        \"\"\"Return weights from a given model.\n",
        "\n",
        "        If no model is passed, then a local model is created.\n",
        "        This can be used to initialise a model in the\n",
        "        server.\n",
        "        The config param is not used but is mandatory in Flower.\n",
        "\n",
        "        Parameters\n",
        "        ----------\n",
        "            config (dict[int, Scalar]): dictionary containing configuration info.\n",
        "\n",
        "        Returns\n",
        "        -------\n",
        "            NDArrays: weights from the model.\n",
        "        \"\"\"\n",
        "        net = self.model_generator()\n",
        "        return get_model_parameters(net)\n",
        "\n",
        "    def fit(\n",
        "        self, parameters: NDArrays, config: dict[str, Scalar]\n",
        "    ) -> tuple[NDArrays, int, dict]:\n",
        "        \"\"\"Receive and train a model on the local client data.\n",
        "\n",
        "        It uses parameters from the config dict\n",
        "\n",
        "        Parameters\n",
        "        ----------\n",
        "            net (NDArrays): Pytorch model parameters\n",
        "            config (dict[str, Scalar]): dictionary describing the training parameters\n",
        "\n",
        "        Returns\n",
        "        -------\n",
        "            tuple[NDArrays, int, dict]: Returns the updated model, the size of the local\n",
        "                dataset and other metrics\n",
        "        \"\"\"\n",
        "        # Only create model right before training/testing\n",
        "        # To lower memory usage when idle\n",
        "        net = self.set_parameters(parameters)\n",
        "        net.to(self.device)\n",
        "\n",
        "        train_loader: DataLoader = self._create_data_loader(config, name=\"train\")\n",
        "        train_loss = self._train(net, train_loader=train_loader, config=config)\n",
        "        return get_model_parameters(net), len(train_loader), {\"train_loss\": train_loss}\n",
        "\n",
        "    def evaluate(\n",
        "        self, parameters: NDArrays, config: dict[str, Scalar]\n",
        "    ) -> tuple[float, int, dict]:\n",
        "        \"\"\"Receive and test a model on the local client data.\n",
        "\n",
        "        It uses parameters from the config dict\n",
        "\n",
        "        Parameters\n",
        "        ----------\n",
        "            net (NDArrays): Pytorch model parameters\n",
        "            config (dict[str, Scalar]): dictionary describing the testing parameters\n",
        "\n",
        "        Returns\n",
        "        -------\n",
        "            tuple[float, int, dict]: Returns the loss accumulate during testing, the\n",
        "                size of the local dataset and other metrics such as accuracy\n",
        "        \"\"\"\n",
        "        net = self.set_parameters(parameters)\n",
        "        net.to(self.device)\n",
        "\n",
        "        test_loader: DataLoader = self._create_data_loader(config, name=\"test\")\n",
        "        loss, accuracy = self._test(net, test_loader=test_loader, config=config)\n",
        "        return loss, len(test_loader), {\"local_accuracy\": accuracy}\n",
        "\n",
        "    def _create_data_loader(self, config: dict[str, Scalar], name: str) -> DataLoader:\n",
        "        \"\"\"Create the data loader using the specified config parameters.\n",
        "\n",
        "        Parameters\n",
        "        ----------\n",
        "            config (dict[str, Scalar]): dictionary containing dataloader and dataset\n",
        "                parameters\n",
        "            mode (str): Load the training or testing set for the client\n",
        "\n",
        "        Returns\n",
        "        -------\n",
        "            DataLoader: A pytorch dataloader iterable for training/testing\n",
        "        \"\"\"\n",
        "        batch_size = int(config[\"batch_size\"])\n",
        "        num_workers = int(config[\"num_workers\"])\n",
        "        dataset = self._load_dataset(name)\n",
        "        return DataLoader(\n",
        "            dataset=dataset,\n",
        "            batch_size=batch_size,\n",
        "            shuffle=True,\n",
        "            num_workers=num_workers,\n",
        "            drop_last=(name == \"train\"),\n",
        "        )\n",
        "\n",
        "    def _load_dataset(self, name: str) -> Dataset:\n",
        "        full_file: Path = self.partition_dir / str(self.cid)\n",
        "        return load_femnist_dataset(\n",
        "            mapping=full_file,\n",
        "            name=name,\n",
        "            data_dir=data_dir,\n",
        "        )\n",
        "\n",
        "    def _train(\n",
        "        self, net: Module, train_loader: DataLoader, config: dict[str, Scalar]\n",
        "    ) -> float:\n",
        "        return train_femnist(\n",
        "            net=net,\n",
        "            train_loader=train_loader,\n",
        "            epochs=int(config[\"epochs\"]),\n",
        "            device=self.device,\n",
        "            optimizer=torch.optim.AdamW(\n",
        "                net.parameters(),\n",
        "                lr=float(config[\"client_learning_rate\"]),\n",
        "                weight_decay=float(config[\"weight_decay\"]),\n",
        "            ),\n",
        "            criterion=torch.nn.CrossEntropyLoss(),\n",
        "            max_batches=int(config[\"max_batches\"]),\n",
        "        )\n",
        "\n",
        "    def _test(\n",
        "        self, net: Module, test_loader: DataLoader, config: dict[str, Scalar]\n",
        "    ) -> tuple[float, float]:\n",
        "        return test_femnist(\n",
        "            net=net,\n",
        "            test_loader=test_loader,\n",
        "            device=self.device,\n",
        "            criterion=torch.nn.CrossEntropyLoss(),\n",
        "            max_batches=int(config[\"max_batches\"]),\n",
        "        )\n",
        "\n",
        "    def get_properties(self, config: dict[str, Scalar]) -> dict[str, Scalar]:\n",
        "        \"\"\"Return properties for this client.\n",
        "\n",
        "        Parameters\n",
        "        ----------\n",
        "            config (dict[str, Scalar]): Options to be used for selecting specific\n",
        "            properties.\n",
        "\n",
        "        Returns\n",
        "        -------\n",
        "            dict[str, Scalar]: Returned properties.\n",
        "        \"\"\"\n",
        "        return self.properties\n",
        "\n",
        "    def get_train_set_size(self) -> int:\n",
        "        \"\"\"Return the client train set size.\n",
        "\n",
        "        Returns\n",
        "        -------\n",
        "            int: train set size of the client.\n",
        "        \"\"\"\n",
        "        return len(self._load_dataset(\"train\"))  # type: ignore[reportArgumentType]\n",
        "\n",
        "    def get_test_set_size(self) -> int:\n",
        "        \"\"\"Return the client test set size.\n",
        "\n",
        "        Returns\n",
        "        -------\n",
        "            int: test set size of the client.\n",
        "        \"\"\"\n",
        "        return len(self._load_dataset(\"test\"))  # type: ignore[reportArgumentType]\n",
        "\n",
        "\n",
        "def fit_client_seeded(\n",
        "    client: FlowerRayClient,\n",
        "    params: NDArrays,\n",
        "    conf: dict[str, Any],\n",
        "    seed: Seeds = Seeds.DEFAULT,\n",
        "    **kwargs: Any,\n",
        ") -> tuple[NDArrays, int, dict]:\n",
        "    \"\"\"Wrap to always seed client training.\"\"\"\n",
        "    np.random.seed(seed)\n",
        "    torch.manual_seed(seed)\n",
        "    random.seed(seed)\n",
        "    return client.fit(params, conf, **kwargs)"
      ]
    },
    {
      "cell_type": "markdown",
      "metadata": {
        "id": "7HdLT_IBFBUD"
      },
      "source": [
        "The underlying FL simulator used by Flower is based on [Ray](https://www.ray.io/). It expects each client only to require a client ID for instantiation. Therefore, using the following generator function, we can determine the specific network used for FL together with the FEMNIST partition to which the `cid` refers.\n",
        "\n",
        "While we will not use `Ray` in this lab due to its heavyweight nature, we will keep all code API compatible with the default flower framework."
      ]
    },
    {
      "cell_type": "code",
      "execution_count": 10,
      "metadata": {
        "id": "Mwfh5JZmUcfd"
      },
      "outputs": [],
      "source": [
        "def get_flower_client_generator(\n",
        "    model_generator: Callable[[], Module],\n",
        "    partition_dir: Path,\n",
        "    mapping_fn: Callable[[int], int] | None = None,\n",
        ") -> Callable[[str], FlowerRayClient]:\n",
        "    \"\"\"Wrap the client instance generator.\n",
        "\n",
        "    This provides the client generator with a model generator function.\n",
        "    Also, the partition directory must be passed.\n",
        "    A mapping function could be used for filtering/ordering clients.\n",
        "\n",
        "    Parameters\n",
        "    ----------\n",
        "        model_generator (Callable[[], Module]): model generator function.\n",
        "        partition_dir (Path): directory containing the partition.\n",
        "        mapping_fn (Optional[Callable[[int], int]]): function mapping sorted/filtered\n",
        "            ids to real cid.\n",
        "\n",
        "    Returns\n",
        "    -------\n",
        "        Callable[[str], FlowerRayClient]: client instance.\n",
        "    \"\"\"\n",
        "\n",
        "    def client_fn(cid: str) -> FlowerRayClient:\n",
        "        \"\"\"Create a single client instance given the client id `cid`.\n",
        "\n",
        "        Parameters\n",
        "        ----------\n",
        "            cid (str): client id, Flower requires this to be of type str.\n",
        "\n",
        "        Returns\n",
        "        -------\n",
        "            FlowerRayClient: client instance.\n",
        "        \"\"\"\n",
        "        return FlowerRayClient(\n",
        "            cid=mapping_fn(int(cid)) if mapping_fn is not None else int(cid),\n",
        "            partition_dir=partition_dir,\n",
        "            model_generator=model_generator,\n",
        "        )\n",
        "\n",
        "    return client_fn"
      ]
    },
    {
      "cell_type": "markdown",
      "metadata": {
        "id": "z4rBKYJqU3bf"
      },
      "source": [
        "To ensure the Flower client behaves the same as our simple demo client, a simple test using the centralised partition we defined earlier should suffice."
      ]
    },
    {
      "cell_type": "code",
      "execution_count": 11,
      "metadata": {
        "id": "udMWNQ0xU8VD",
        "outputId": "759c0ae6-fce9-4bef-f5e5-c4d06c6af62c",
        "colab": {
          "base_uri": "https://localhost:8080/"
        }
      },
      "outputs": [
        {
          "output_type": "stream",
          "name": "stderr",
          "text": [
            "INFO flwr 2025-02-10 21:08:21,323 | <ipython-input-9-2c3670f7beb9>:21 | cid: 0\n",
            "INFO:flwr:cid: 0\n"
          ]
        }
      ],
      "source": [
        "network_generator = get_network_generator()\n",
        "seed_net: Net = network_generator()\n",
        "seed_model_params: NDArrays = get_model_parameters(seed_net)\n",
        "\n",
        "centralized_flower_client_generator: Callable[[str], FlowerRayClient] = (\n",
        "    get_flower_client_generator(network_generator, centralized_partition)\n",
        ")\n",
        "centralized_flower_client = centralized_flower_client_generator(str(0))"
      ]
    },
    {
      "cell_type": "code",
      "execution_count": 12,
      "metadata": {
        "id": "GJima3hoFBUD",
        "outputId": "a34cbe5a-21ba-4bd6-d55b-213dbe4f7851",
        "colab": {
          "base_uri": "https://localhost:8080/"
        }
      },
      "outputs": [
        {
          "output_type": "stream",
          "name": "stderr",
          "text": [
            "INFO flwr 2025-02-10 21:08:29,180 | <ipython-input-12-63f637b1e36d>:20 | Train Metrics = {'train_loss': 0.11729214809834958}\n",
            "INFO:flwr:Train Metrics = {'train_loss': 0.11729214809834958}\n"
          ]
        }
      ],
      "source": [
        "centralized_train_config: dict[str, Any] = {\n",
        "    \"epochs\": 1,\n",
        "    \"batch_size\": 32,\n",
        "    \"client_learning_rate\": 0.01,\n",
        "    \"weight_decay\": 0.001,\n",
        "    \"num_workers\": 0,\n",
        "    \"max_batches\": 100,\n",
        "}\n",
        "\n",
        "test_config: dict[str, Any] = {\n",
        "    \"batch_size\": 32,\n",
        "    \"num_workers\": 0,\n",
        "    \"max_batches\": 100,\n",
        "}\n",
        "\n",
        "# Train parameters on the centralised dataset\n",
        "trained_params, num_examples, train_metrics = fit_client_seeded(\n",
        "    centralized_flower_client, params=seed_model_params, conf=centralized_train_config\n",
        ")\n",
        "log(INFO, \"Train Metrics = %s\", train_metrics)"
      ]
    },
    {
      "cell_type": "code",
      "execution_count": 13,
      "metadata": {
        "id": "EdzCbOf0wOWC",
        "outputId": "c06b8713-a3a3-475f-ab5d-bcd22e3a9e40",
        "colab": {
          "base_uri": "https://localhost:8080/"
        }
      },
      "outputs": [
        {
          "output_type": "stream",
          "name": "stderr",
          "text": [
            "  4%|▍         | 100/2329 [00:01<00:30, 73.32it/s]\n",
            "INFO flwr 2025-02-10 21:08:30,746 | <ipython-input-13-5591b8433db2>:5 | Loss = 370.11396503448486; Test Metrics = {'local_accuracy': 0.059375}\n",
            "INFO:flwr:Loss = 370.11396503448486; Test Metrics = {'local_accuracy': 0.059375}\n"
          ]
        }
      ],
      "source": [
        "# Test trained parameters on the centralised dataset\n",
        "loss, num_examples, test_metrics = centralized_flower_client.evaluate(\n",
        "    parameters=trained_params, config=test_config\n",
        ")\n",
        "log(INFO, \"Loss = %s; Test Metrics = %s\", loss, test_metrics)"
      ]
    },
    {
      "cell_type": "markdown",
      "metadata": {
        "id": "IXwkNqUED40K"
      },
      "source": [
        "## 6. FL with natural partitions\n",
        "---"
      ]
    },
    {
      "cell_type": "markdown",
      "metadata": {
        "id": "OC0MPZAIM-JC"
      },
      "source": [
        "Given its naturally-partitioned nature, we can easily construct a realistic FL experiment by mapping clients one-to-one with the writers of the original symbols.\n",
        "\n",
        "To pursue this aim, we shall use the “naturally federated” partition instead of the \"centralised” one. We are then using the entire `train.csv` and `test.csv` contained in the subfolders of `client_data_mappings/fed_natural`. Each subfolder is named after the clients' ID in the dataset, i.e., from `0` to `3229`.\n",
        "\n",
        "To guarantee that each client has sufficient training data to participate meaningfully, a common practice is to set a lower bound on the number of samples a selected client is allowed to have. Generally, this threshold should be equivalent to at least one batch. We will now implement a function to sample clients from the federation that satisfies the abovementioned filter in the train set."
      ]
    },
    {
      "cell_type": "code",
      "execution_count": 14,
      "metadata": {
        "id": "6QQv15XxXhvJ"
      },
      "outputs": [],
      "source": [
        "def sample_random_clients(\n",
        "    total_clients: int,\n",
        "    filter_less: int,\n",
        "    partition: Path,\n",
        "    seed: int | None = Seeds.DEFAULT,\n",
        ") -> Sequence[int]:\n",
        "    \"\"\"Sample randomly clients.\n",
        "\n",
        "    A filter on the client train set size is performed.\n",
        "\n",
        "    Parameters\n",
        "    ----------\n",
        "        total_clients (int): total number of clients to sample.\n",
        "        filter_less (int): max number of train samples for which the client is\n",
        "            **discarded**.\n",
        "        partition (Path): path to the folder containing the partitioning.\n",
        "        seed (Optional[int], optional): seed for the random generator. Defaults to None.\n",
        "\n",
        "    Returns\n",
        "    -------\n",
        "        Sequence[int]: list of sample client ids as int.\n",
        "    \"\"\"\n",
        "    real_federated_cid_client_generator: Callable[[str], FlowerRayClient] = (\n",
        "        get_flower_client_generator(network_generator, federated_partition)\n",
        "    )\n",
        "    if seed is not None:\n",
        "        random.seed(seed)\n",
        "    list_of_ids = []\n",
        "    while len(list_of_ids) < total_clients:\n",
        "        current_id = random.randint(0, 3229)\n",
        "        if (\n",
        "            real_federated_cid_client_generator(str(current_id)).get_train_set_size()\n",
        "            > filter_less\n",
        "        ):\n",
        "            list_of_ids.append(current_id)\n",
        "    return list_of_ids"
      ]
    },
    {
      "cell_type": "markdown",
      "metadata": {
        "id": "togXum333D1L"
      },
      "source": [
        "While FEMNIST has more than 3000 clients, our small-scale experiments will not require more than 100 at any point."
      ]
    },
    {
      "cell_type": "code",
      "execution_count": 15,
      "metadata": {
        "id": "e-s7oVYNXkwf",
        "outputId": "c4d06e10-d1ee-4ca4-dde8-38a03e5d1484",
        "colab": {
          "base_uri": "https://localhost:8080/"
        },
        "collapsed": true
      },
      "outputs": [
        {
          "output_type": "stream",
          "name": "stderr",
          "text": [
            "INFO flwr 2025-02-10 21:08:30,772 | <ipython-input-9-2c3670f7beb9>:21 | cid: 2530\n",
            "INFO:flwr:cid: 2530\n",
            "INFO flwr 2025-02-10 21:08:30,779 | <ipython-input-9-2c3670f7beb9>:21 | cid: 2184\n",
            "INFO:flwr:cid: 2184\n",
            "INFO flwr 2025-02-10 21:08:30,784 | <ipython-input-9-2c3670f7beb9>:21 | cid: 2907\n",
            "INFO:flwr:cid: 2907\n",
            "INFO flwr 2025-02-10 21:08:30,788 | <ipython-input-9-2c3670f7beb9>:21 | cid: 1498\n",
            "INFO:flwr:cid: 1498\n",
            "INFO flwr 2025-02-10 21:08:30,793 | <ipython-input-9-2c3670f7beb9>:21 | cid: 2338\n",
            "INFO:flwr:cid: 2338\n",
            "INFO flwr 2025-02-10 21:08:30,798 | <ipython-input-9-2c3670f7beb9>:21 | cid: 2399\n",
            "INFO:flwr:cid: 2399\n",
            "INFO flwr 2025-02-10 21:08:30,802 | <ipython-input-9-2c3670f7beb9>:21 | cid: 2997\n",
            "INFO:flwr:cid: 2997\n",
            "INFO flwr 2025-02-10 21:08:30,807 | <ipython-input-9-2c3670f7beb9>:21 | cid: 678\n",
            "INFO:flwr:cid: 678\n",
            "INFO flwr 2025-02-10 21:08:30,812 | <ipython-input-9-2c3670f7beb9>:21 | cid: 3175\n",
            "INFO:flwr:cid: 3175\n",
            "INFO flwr 2025-02-10 21:08:30,817 | <ipython-input-9-2c3670f7beb9>:21 | cid: 1363\n",
            "INFO:flwr:cid: 1363\n",
            "INFO flwr 2025-02-10 21:08:30,822 | <ipython-input-9-2c3670f7beb9>:21 | cid: 1571\n",
            "INFO:flwr:cid: 1571\n",
            "INFO flwr 2025-02-10 21:08:30,827 | <ipython-input-9-2c3670f7beb9>:21 | cid: 2600\n",
            "INFO:flwr:cid: 2600\n",
            "INFO flwr 2025-02-10 21:08:30,832 | <ipython-input-9-2c3670f7beb9>:21 | cid: 1473\n",
            "INFO:flwr:cid: 1473\n",
            "INFO flwr 2025-02-10 21:08:30,837 | <ipython-input-9-2c3670f7beb9>:21 | cid: 1260\n",
            "INFO:flwr:cid: 1260\n",
            "INFO flwr 2025-02-10 21:08:30,842 | <ipython-input-9-2c3670f7beb9>:21 | cid: 1603\n",
            "INFO:flwr:cid: 1603\n",
            "INFO flwr 2025-02-10 21:08:30,863 | <ipython-input-9-2c3670f7beb9>:21 | cid: 2855\n",
            "INFO:flwr:cid: 2855\n",
            "INFO flwr 2025-02-10 21:08:30,867 | <ipython-input-9-2c3670f7beb9>:21 | cid: 839\n",
            "INFO:flwr:cid: 839\n",
            "INFO flwr 2025-02-10 21:08:30,872 | <ipython-input-9-2c3670f7beb9>:21 | cid: 3119\n",
            "INFO:flwr:cid: 3119\n",
            "INFO flwr 2025-02-10 21:08:30,878 | <ipython-input-9-2c3670f7beb9>:21 | cid: 2688\n",
            "INFO:flwr:cid: 2688\n",
            "INFO flwr 2025-02-10 21:08:30,885 | <ipython-input-9-2c3670f7beb9>:21 | cid: 1494\n",
            "INFO:flwr:cid: 1494\n",
            "INFO flwr 2025-02-10 21:08:30,891 | <ipython-input-9-2c3670f7beb9>:21 | cid: 447\n",
            "INFO:flwr:cid: 447\n",
            "INFO flwr 2025-02-10 21:08:30,899 | <ipython-input-9-2c3670f7beb9>:21 | cid: 1742\n",
            "INFO:flwr:cid: 1742\n",
            "INFO flwr 2025-02-10 21:08:30,909 | <ipython-input-9-2c3670f7beb9>:21 | cid: 2601\n",
            "INFO:flwr:cid: 2601\n",
            "INFO flwr 2025-02-10 21:08:30,915 | <ipython-input-9-2c3670f7beb9>:21 | cid: 1633\n",
            "INFO:flwr:cid: 1633\n",
            "INFO flwr 2025-02-10 21:08:30,918 | <ipython-input-9-2c3670f7beb9>:21 | cid: 267\n",
            "INFO:flwr:cid: 267\n",
            "INFO flwr 2025-02-10 21:08:30,923 | <ipython-input-9-2c3670f7beb9>:21 | cid: 2070\n",
            "INFO:flwr:cid: 2070\n",
            "INFO flwr 2025-02-10 21:08:30,929 | <ipython-input-9-2c3670f7beb9>:21 | cid: 2863\n",
            "INFO:flwr:cid: 2863\n",
            "INFO flwr 2025-02-10 21:08:30,933 | <ipython-input-9-2c3670f7beb9>:21 | cid: 2736\n",
            "INFO:flwr:cid: 2736\n",
            "INFO flwr 2025-02-10 21:08:30,936 | <ipython-input-9-2c3670f7beb9>:21 | cid: 1425\n",
            "INFO:flwr:cid: 1425\n",
            "INFO flwr 2025-02-10 21:08:30,939 | <ipython-input-9-2c3670f7beb9>:21 | cid: 1653\n",
            "INFO:flwr:cid: 1653\n",
            "INFO flwr 2025-02-10 21:08:30,942 | <ipython-input-9-2c3670f7beb9>:21 | cid: 1652\n",
            "INFO:flwr:cid: 1652\n",
            "INFO flwr 2025-02-10 21:08:30,945 | <ipython-input-9-2c3670f7beb9>:21 | cid: 3020\n",
            "INFO:flwr:cid: 3020\n",
            "INFO flwr 2025-02-10 21:08:30,948 | <ipython-input-9-2c3670f7beb9>:21 | cid: 1273\n",
            "INFO:flwr:cid: 1273\n",
            "INFO flwr 2025-02-10 21:08:30,956 | <ipython-input-9-2c3670f7beb9>:21 | cid: 2718\n",
            "INFO:flwr:cid: 2718\n",
            "INFO flwr 2025-02-10 21:08:30,959 | <ipython-input-9-2c3670f7beb9>:21 | cid: 73\n",
            "INFO:flwr:cid: 73\n",
            "INFO flwr 2025-02-10 21:08:30,963 | <ipython-input-9-2c3670f7beb9>:21 | cid: 1446\n",
            "INFO:flwr:cid: 1446\n",
            "INFO flwr 2025-02-10 21:08:30,966 | <ipython-input-9-2c3670f7beb9>:21 | cid: 2434\n",
            "INFO:flwr:cid: 2434\n",
            "INFO flwr 2025-02-10 21:08:30,972 | <ipython-input-9-2c3670f7beb9>:21 | cid: 485\n",
            "INFO:flwr:cid: 485\n",
            "INFO flwr 2025-02-10 21:08:30,976 | <ipython-input-9-2c3670f7beb9>:21 | cid: 1887\n",
            "INFO:flwr:cid: 1887\n",
            "INFO flwr 2025-02-10 21:08:30,981 | <ipython-input-9-2c3670f7beb9>:21 | cid: 1009\n",
            "INFO:flwr:cid: 1009\n",
            "INFO flwr 2025-02-10 21:08:30,985 | <ipython-input-9-2c3670f7beb9>:21 | cid: 701\n",
            "INFO:flwr:cid: 701\n",
            "INFO flwr 2025-02-10 21:08:30,989 | <ipython-input-9-2c3670f7beb9>:21 | cid: 1285\n",
            "INFO:flwr:cid: 1285\n",
            "INFO flwr 2025-02-10 21:08:30,995 | <ipython-input-9-2c3670f7beb9>:21 | cid: 2782\n",
            "INFO:flwr:cid: 2782\n",
            "INFO flwr 2025-02-10 21:08:30,998 | <ipython-input-9-2c3670f7beb9>:21 | cid: 2828\n",
            "INFO:flwr:cid: 2828\n",
            "INFO flwr 2025-02-10 21:08:31,001 | <ipython-input-9-2c3670f7beb9>:21 | cid: 2476\n",
            "INFO:flwr:cid: 2476\n",
            "INFO flwr 2025-02-10 21:08:31,008 | <ipython-input-9-2c3670f7beb9>:21 | cid: 1872\n",
            "INFO:flwr:cid: 1872\n",
            "INFO flwr 2025-02-10 21:08:31,011 | <ipython-input-9-2c3670f7beb9>:21 | cid: 2471\n",
            "INFO:flwr:cid: 2471\n",
            "INFO flwr 2025-02-10 21:08:31,015 | <ipython-input-9-2c3670f7beb9>:21 | cid: 1084\n",
            "INFO:flwr:cid: 1084\n",
            "INFO flwr 2025-02-10 21:08:31,021 | <ipython-input-9-2c3670f7beb9>:21 | cid: 823\n",
            "INFO:flwr:cid: 823\n",
            "INFO flwr 2025-02-10 21:08:31,024 | <ipython-input-9-2c3670f7beb9>:21 | cid: 2243\n",
            "INFO:flwr:cid: 2243\n",
            "INFO flwr 2025-02-10 21:08:31,028 | <ipython-input-9-2c3670f7beb9>:21 | cid: 275\n",
            "INFO:flwr:cid: 275\n",
            "INFO flwr 2025-02-10 21:08:31,031 | <ipython-input-9-2c3670f7beb9>:21 | cid: 2614\n",
            "INFO:flwr:cid: 2614\n",
            "INFO flwr 2025-02-10 21:08:31,034 | <ipython-input-9-2c3670f7beb9>:21 | cid: 2152\n",
            "INFO:flwr:cid: 2152\n",
            "INFO flwr 2025-02-10 21:08:31,037 | <ipython-input-9-2c3670f7beb9>:21 | cid: 2534\n",
            "INFO:flwr:cid: 2534\n",
            "INFO flwr 2025-02-10 21:08:31,041 | <ipython-input-9-2c3670f7beb9>:21 | cid: 2364\n",
            "INFO:flwr:cid: 2364\n",
            "INFO flwr 2025-02-10 21:08:31,044 | <ipython-input-9-2c3670f7beb9>:21 | cid: 3168\n",
            "INFO:flwr:cid: 3168\n",
            "INFO flwr 2025-02-10 21:08:31,047 | <ipython-input-9-2c3670f7beb9>:21 | cid: 179\n",
            "INFO:flwr:cid: 179\n",
            "INFO flwr 2025-02-10 21:08:31,051 | <ipython-input-9-2c3670f7beb9>:21 | cid: 295\n",
            "INFO:flwr:cid: 295\n",
            "INFO flwr 2025-02-10 21:08:31,054 | <ipython-input-9-2c3670f7beb9>:21 | cid: 1668\n",
            "INFO:flwr:cid: 1668\n",
            "INFO flwr 2025-02-10 21:08:31,058 | <ipython-input-9-2c3670f7beb9>:21 | cid: 2674\n",
            "INFO:flwr:cid: 2674\n",
            "INFO flwr 2025-02-10 21:08:31,062 | <ipython-input-9-2c3670f7beb9>:21 | cid: 2538\n",
            "INFO:flwr:cid: 2538\n",
            "INFO flwr 2025-02-10 21:08:31,065 | <ipython-input-9-2c3670f7beb9>:21 | cid: 220\n",
            "INFO:flwr:cid: 220\n",
            "INFO flwr 2025-02-10 21:08:31,069 | <ipython-input-9-2c3670f7beb9>:21 | cid: 2767\n",
            "INFO:flwr:cid: 2767\n",
            "INFO flwr 2025-02-10 21:08:31,072 | <ipython-input-9-2c3670f7beb9>:21 | cid: 70\n",
            "INFO:flwr:cid: 70\n",
            "INFO flwr 2025-02-10 21:08:31,076 | <ipython-input-9-2c3670f7beb9>:21 | cid: 2600\n",
            "INFO:flwr:cid: 2600\n",
            "/content/labs/common/femnist_dataset.py:98: FutureWarning: You are using `torch.load` with `weights_only=False` (the current default value), which uses the default pickle module implicitly. It is possible to construct malicious pickle data which will execute arbitrary code during unpickling (See https://github.com/pytorch/pytorch/blob/main/SECURITY.md#untrusted-models for more details). In a future release, the default value for `weights_only` will be flipped to `True`. This limits the functions that could be executed during unpickling. Arbitrary objects will no longer be allowed to be loaded via this mode unless they are explicitly allowlisted by the user via `torch.serialization.add_safe_globals`. We recommend you start setting `weights_only=True` for any use case where you don't have full control of the loaded file. Please open an issue on GitHub for any issues related to this experimental feature.\n",
            "  return torch.load(preprocessed_path)\n",
            "INFO flwr 2025-02-10 21:08:31,081 | <ipython-input-9-2c3670f7beb9>:21 | cid: 806\n",
            "INFO:flwr:cid: 806\n",
            "INFO flwr 2025-02-10 21:08:31,130 | <ipython-input-9-2c3670f7beb9>:21 | cid: 807\n",
            "INFO:flwr:cid: 807\n",
            "INFO flwr 2025-02-10 21:08:31,140 | <ipython-input-9-2c3670f7beb9>:21 | cid: 428\n",
            "INFO:flwr:cid: 428\n",
            "INFO flwr 2025-02-10 21:08:31,146 | <ipython-input-9-2c3670f7beb9>:21 | cid: 1167\n",
            "INFO:flwr:cid: 1167\n",
            "INFO flwr 2025-02-10 21:08:31,152 | <ipython-input-9-2c3670f7beb9>:21 | cid: 805\n",
            "INFO:flwr:cid: 805\n",
            "INFO flwr 2025-02-10 21:08:31,155 | <ipython-input-9-2c3670f7beb9>:21 | cid: 1852\n",
            "INFO:flwr:cid: 1852\n",
            "INFO flwr 2025-02-10 21:08:31,162 | <ipython-input-9-2c3670f7beb9>:21 | cid: 3068\n",
            "INFO:flwr:cid: 3068\n",
            "INFO flwr 2025-02-10 21:08:31,166 | <ipython-input-9-2c3670f7beb9>:21 | cid: 2329\n",
            "INFO:flwr:cid: 2329\n",
            "INFO flwr 2025-02-10 21:08:31,169 | <ipython-input-9-2c3670f7beb9>:21 | cid: 1287\n",
            "INFO:flwr:cid: 1287\n",
            "INFO flwr 2025-02-10 21:08:31,173 | <ipython-input-9-2c3670f7beb9>:21 | cid: 51\n",
            "INFO:flwr:cid: 51\n",
            "INFO flwr 2025-02-10 21:08:31,177 | <ipython-input-9-2c3670f7beb9>:21 | cid: 2501\n",
            "INFO:flwr:cid: 2501\n",
            "INFO flwr 2025-02-10 21:08:31,181 | <ipython-input-9-2c3670f7beb9>:21 | cid: 1366\n",
            "INFO:flwr:cid: 1366\n",
            "INFO flwr 2025-02-10 21:08:31,184 | <ipython-input-9-2c3670f7beb9>:21 | cid: 1770\n",
            "INFO:flwr:cid: 1770\n",
            "INFO flwr 2025-02-10 21:08:31,187 | <ipython-input-9-2c3670f7beb9>:21 | cid: 2343\n",
            "INFO:flwr:cid: 2343\n",
            "INFO flwr 2025-02-10 21:08:31,190 | <ipython-input-9-2c3670f7beb9>:21 | cid: 937\n",
            "INFO:flwr:cid: 937\n",
            "INFO flwr 2025-02-10 21:08:31,194 | <ipython-input-9-2c3670f7beb9>:21 | cid: 2251\n",
            "INFO:flwr:cid: 2251\n",
            "INFO flwr 2025-02-10 21:08:31,197 | <ipython-input-9-2c3670f7beb9>:21 | cid: 187\n",
            "INFO:flwr:cid: 187\n",
            "INFO flwr 2025-02-10 21:08:31,201 | <ipython-input-9-2c3670f7beb9>:21 | cid: 3178\n",
            "INFO:flwr:cid: 3178\n",
            "INFO flwr 2025-02-10 21:08:31,205 | <ipython-input-9-2c3670f7beb9>:21 | cid: 2274\n",
            "INFO:flwr:cid: 2274\n",
            "INFO flwr 2025-02-10 21:08:31,208 | <ipython-input-9-2c3670f7beb9>:21 | cid: 2975\n",
            "INFO:flwr:cid: 2975\n",
            "INFO flwr 2025-02-10 21:08:31,211 | <ipython-input-9-2c3670f7beb9>:21 | cid: 2645\n",
            "INFO:flwr:cid: 2645\n",
            "INFO flwr 2025-02-10 21:08:31,215 | <ipython-input-9-2c3670f7beb9>:21 | cid: 1258\n",
            "INFO:flwr:cid: 1258\n",
            "INFO flwr 2025-02-10 21:08:31,218 | <ipython-input-9-2c3670f7beb9>:21 | cid: 875\n",
            "INFO:flwr:cid: 875\n",
            "INFO flwr 2025-02-10 21:08:31,222 | <ipython-input-9-2c3670f7beb9>:21 | cid: 2504\n",
            "INFO:flwr:cid: 2504\n",
            "INFO flwr 2025-02-10 21:08:31,225 | <ipython-input-9-2c3670f7beb9>:21 | cid: 740\n",
            "INFO:flwr:cid: 740\n",
            "INFO flwr 2025-02-10 21:08:31,228 | <ipython-input-9-2c3670f7beb9>:21 | cid: 2167\n",
            "INFO:flwr:cid: 2167\n",
            "INFO flwr 2025-02-10 21:08:31,231 | <ipython-input-9-2c3670f7beb9>:21 | cid: 2157\n",
            "INFO:flwr:cid: 2157\n",
            "INFO flwr 2025-02-10 21:08:31,234 | <ipython-input-9-2c3670f7beb9>:21 | cid: 2164\n",
            "INFO:flwr:cid: 2164\n",
            "INFO flwr 2025-02-10 21:08:31,237 | <ipython-input-9-2c3670f7beb9>:21 | cid: 757\n",
            "INFO:flwr:cid: 757\n",
            "INFO flwr 2025-02-10 21:08:31,245 | <ipython-input-9-2c3670f7beb9>:21 | cid: 3175\n",
            "INFO:flwr:cid: 3175\n",
            "INFO flwr 2025-02-10 21:08:31,248 | <ipython-input-9-2c3670f7beb9>:21 | cid: 2714\n",
            "INFO:flwr:cid: 2714\n",
            "INFO flwr 2025-02-10 21:08:31,252 | <ipython-input-9-2c3670f7beb9>:21 | cid: 206\n",
            "INFO:flwr:cid: 206\n",
            "INFO flwr 2025-02-10 21:08:31,256 | <ipython-input-9-2c3670f7beb9>:21 | cid: 3057\n",
            "INFO:flwr:cid: 3057\n",
            "INFO flwr 2025-02-10 21:08:31,260 | <ipython-input-9-2c3670f7beb9>:21 | cid: 2026\n",
            "INFO:flwr:cid: 2026\n",
            "INFO flwr 2025-02-10 21:08:31,263 | <ipython-input-9-2c3670f7beb9>:21 | cid: 2882\n",
            "INFO:flwr:cid: 2882\n"
          ]
        }
      ],
      "source": [
        "total_clients: int = 100\n",
        "list_of_ids = sample_random_clients(\n",
        "    total_clients, centralized_train_config[\"batch_size\"], federated_partition\n",
        ")\n",
        "\n",
        "federated_client_generator: Callable[[str], FlowerRayClient] = (\n",
        "    get_flower_client_generator(\n",
        "        network_generator, federated_partition, lambda seq_id: list_of_ids[seq_id]\n",
        "    )\n",
        ")"
      ]
    },
    {
      "cell_type": "markdown",
      "metadata": {
        "id": "BUrsR0JJwZ5R"
      },
      "source": [
        "Now, to test that the newly partitioned clients can be trained."
      ]
    },
    {
      "cell_type": "code",
      "execution_count": 16,
      "metadata": {
        "id": "1HzR2ZY7nhPm"
      },
      "outputs": [],
      "source": [
        "one_epoch_config: dict[str, Any] = {\n",
        "    \"epochs\": 1,\n",
        "    \"batch_size\": 32,\n",
        "    \"client_learning_rate\": 0.01,\n",
        "    \"weight_decay\": 0.001,\n",
        "    \"num_workers\": 0,\n",
        "    \"max_batches\": 100,\n",
        "}\n",
        "\n",
        "test_config: dict[str, Any] = {\n",
        "    \"batch_size\": 32,\n",
        "    \"num_workers\": 0,\n",
        "    \"max_batches\": 100,\n",
        "}"
      ]
    },
    {
      "cell_type": "code",
      "execution_count": 17,
      "metadata": {
        "id": "wyoErIaM3D1L"
      },
      "outputs": [],
      "source": [
        "num_clients = 4\n",
        "clients = random.sample(list(range(total_clients)), num_clients)"
      ]
    },
    {
      "cell_type": "code",
      "execution_count": 18,
      "metadata": {
        "id": "FC1QOYivn_PX",
        "outputId": "b48f40ae-e164-44b2-d80c-6d1e07774863",
        "colab": {
          "base_uri": "https://localhost:8080/"
        }
      },
      "outputs": [
        {
          "output_type": "stream",
          "name": "stderr",
          "text": [
            "INFO flwr 2025-02-10 21:08:31,284 | <ipython-input-9-2c3670f7beb9>:21 | cid: 3175\n",
            "INFO:flwr:cid: 3175\n",
            "INFO flwr 2025-02-10 21:08:31,506 | <ipython-input-9-2c3670f7beb9>:21 | cid: 51\n",
            "INFO:flwr:cid: 51\n",
            "INFO flwr 2025-02-10 21:08:31,985 | <ipython-input-9-2c3670f7beb9>:21 | cid: 1668\n",
            "INFO:flwr:cid: 1668\n",
            "INFO flwr 2025-02-10 21:08:32,120 | <ipython-input-9-2c3670f7beb9>:21 | cid: 1498\n",
            "INFO:flwr:cid: 1498\n"
          ]
        }
      ],
      "source": [
        "trained_models = [\n",
        "    fit_client_seeded(\n",
        "        federated_client_generator(str(cid)), seed_model_params, one_epoch_config\n",
        "    )\n",
        "    for cid in clients\n",
        "]"
      ]
    },
    {
      "cell_type": "code",
      "execution_count": 19,
      "metadata": {
        "id": "ATLQPQ_fm9ph",
        "outputId": "836272a2-48c8-4e95-f601-7a2c6bcf588d",
        "colab": {
          "base_uri": "https://localhost:8080/"
        }
      },
      "outputs": [
        {
          "output_type": "stream",
          "name": "stderr",
          "text": [
            "INFO flwr 2025-02-10 21:08:32,285 | <ipython-input-19-8f95a41b1a11>:3 | Metrics from trained models are: [[4, {'train_loss': 0.12445169873535633}], [11, {'train_loss': 0.12350664016875354}], [3, {'train_loss': 0.12321196496486664}], [4, {'train_loss': 0.12363966554403305}]]\n",
            "INFO:flwr:Metrics from trained models are: [[4, {'train_loss': 0.12445169873535633}], [11, {'train_loss': 0.12350664016875354}], [3, {'train_loss': 0.12321196496486664}], [4, {'train_loss': 0.12363966554403305}]]\n"
          ]
        }
      ],
      "source": [
        "trained_model_parameters = [model for model, *rest in trained_models]\n",
        "trained_model_metrics = [rest for _, *rest in trained_models]\n",
        "log(INFO, \"Metrics from trained models are: %s\", trained_model_metrics)"
      ]
    },
    {
      "cell_type": "markdown",
      "metadata": {
        "id": "qgg0G0i23D1L"
      },
      "source": [
        "---\n",
        "\n",
        "**Question 5 (Part II ✅ | Part III/MPhil ✅):**\n",
        "\n",
        "(You need to provide the answer with **code** for this question. Written argumentation is **strongly** recommended.)\n",
        "\n",
        "If we index the weights of an ML model consecutively, with the assumed architecture being the same, we can visualize it as a single flattened 1-D vector. One, highly imperfect, metric for determining how similar two ML models are is cosine similarity. We can use this metric to compare the models our clients produce are.\n",
        "\n",
        "1. Write functions to:\n",
        "    - Flatten the `NDArrays` objects into a single 1-D vector.\n",
        "    - Compute the cosine similarity of two 1-D vectors based on their inner product and norms.\n",
        "2. Compute a similarity matrix between all client models and plot it.\n",
        "3. What happens to the similarity matrix if you increase the number of local epochs that clients train for to 5 from 1? Why do you think that is?\n",
        ">You may want to save the parameters calculated here separately from the deault ones as both sets will be needed in future questions.\n",
        "\n",
        "---\n",
        "\n",
        "**Question 6 (Part III/MPhil ✅):**\n",
        "\n",
        "(You need to provide the answer with **code** for this question. Written argumentation is **strongly** recommended.)\n",
        "\n",
        "One reason that cosine similarity is an imperfect metric is because it considers weights from different layers to be equally important to the model in terms of its behavior and performance. We can thus create a slightly more detailed picture by tracking the cosine similarity across layers.\n",
        "\n",
        "1. Create a function which computes the pairwise cosine similarity between flattened model layers across clients, i.e. the cosine similarity between the flattened $l_i$ in `client_x` and the flattened $l_i$ in `client_y`.\n",
        "2. Plot the similarity of the models at each layer between the most similar client pair and the most disimilar client pair (as determined by the multi-epoch experiment) using the **one-epoch models**, how do the curves you observe relate to the general cosine similarity you computed for the flattened models.\n",
        "3. What happens to the curves if you increase the number of local epochs to 5? How does this behavior relate to what you observed in the previous exercise ?\n",
        "4. **Optional**: Do you think there is any connection to the underlying architecture? Why? Repeat the above experiments using an MLP such as the one provided by the  `get_network_generator_mlp` in `client_utils` and compare results against the CNN.\n",
        "\n",
        "---"
      ]
    },
    {
      "cell_type": "code",
      "source": [
        "five_epoch_config: dict[str, Any] = {\n",
        "    \"epochs\": 5,\n",
        "    \"batch_size\": 32,\n",
        "    \"client_learning_rate\": 0.01,\n",
        "    \"weight_decay\": 0.001,\n",
        "    \"num_workers\": 0,\n",
        "    \"max_batches\": 100,\n",
        "}\n",
        "\n",
        "test_config: dict[str, Any] = {\n",
        "    \"batch_size\": 32,\n",
        "    \"num_workers\": 0,\n",
        "    \"max_batches\": 100,\n",
        "}\n",
        "\n",
        "trained_models_5_epochs = [\n",
        "    fit_client_seeded(\n",
        "        federated_client_generator(str(cid)), seed_model_params, five_epoch_config\n",
        "    )\n",
        "    for cid in clients\n",
        "]\n",
        "\n",
        "trained_model_parameters_5_epochs = [model for model, *rest in trained_models_5_epochs]\n",
        "trained_model_metrics_5_epochs = [rest for _, *rest in trained_models_5_epochs]\n",
        "log(INFO, \"Metrics from trained models are: %s\", trained_model_metrics_5_epochs)"
      ],
      "metadata": {
        "colab": {
          "base_uri": "https://localhost:8080/"
        },
        "id": "uHEgIy683WeV",
        "outputId": "50655bf6-5519-4106-e0a9-dfd6fbaea01b"
      },
      "execution_count": 20,
      "outputs": [
        {
          "output_type": "stream",
          "name": "stderr",
          "text": [
            "INFO flwr 2025-02-10 21:08:32,299 | <ipython-input-9-2c3670f7beb9>:21 | cid: 3175\n",
            "INFO:flwr:cid: 3175\n",
            "INFO flwr 2025-02-10 21:08:32,718 | <ipython-input-9-2c3670f7beb9>:21 | cid: 51\n",
            "INFO:flwr:cid: 51\n",
            "INFO flwr 2025-02-10 21:08:33,756 | <ipython-input-9-2c3670f7beb9>:21 | cid: 1668\n",
            "INFO:flwr:cid: 1668\n",
            "INFO flwr 2025-02-10 21:08:34,054 | <ipython-input-9-2c3670f7beb9>:21 | cid: 1498\n",
            "INFO:flwr:cid: 1498\n",
            "INFO flwr 2025-02-10 21:08:34,449 | <ipython-input-20-3f127c5c19ca>:25 | Metrics from trained models are: [[4, {'train_loss': 0.10080713219940662}], [11, {'train_loss': 0.10983952812173149}], [3, {'train_loss': 0.107981376349926}], [4, {'train_loss': 0.09679320640861988}]]\n",
            "INFO:flwr:Metrics from trained models are: [[4, {'train_loss': 0.10080713219940662}], [11, {'train_loss': 0.10983952812173149}], [3, {'train_loss': 0.107981376349926}], [4, {'train_loss': 0.09679320640861988}]]\n"
          ]
        }
      ]
    },
    {
      "cell_type": "code",
      "source": [
        "from matplotlib import pyplot as plt\n",
        "import matplotlib as mpl\n",
        "import numpy.typing as npt"
      ],
      "metadata": {
        "id": "iqRl5cSPhJ0P"
      },
      "execution_count": 23,
      "outputs": []
    },
    {
      "cell_type": "code",
      "source": [
        "def cosine_similarity(vec1: npt.NDArray, vec2: npt.NDArray):\n",
        "    '''\n",
        "    We compute the cosine_similarity between two 1-D vectors x, y as\n",
        "    x dot y / ||X|| ||Y||\n",
        "\n",
        "    because x dot y = ||X|| ||Y|| cos (theta)\n",
        "    '''\n",
        "    return np.dot(vec1, vec2) / (np.linalg.norm(vec1) * np.linalg.norm(vec2))\n",
        "\n",
        "def flatten(ndarrays: NDArrays):\n",
        "    '''\n",
        "    Given a list of numpy NDArray objects, we flatten all the elements\n",
        "    into a single 1-D vector\n",
        "    '''\n",
        "    result = np.concatenate([x.reshape(-1) for x in ndarrays])\n",
        "    return result\n",
        "\n",
        "def get_parameters_cosine_similarity(params1: NDArrays, params2: NDArrays):\n",
        "    '''\n",
        "    Calculates the cosine similarity between two\n",
        "    model parameters (NDArrays) by flattening them and\n",
        "    performing cosine similarity\n",
        "    '''\n",
        "\n",
        "    params1_1d = flatten(params1)\n",
        "    params2_1d = flatten(params2)\n",
        "\n",
        "    # Check that the two vectors are of the same dimensions\n",
        "    assert params1_1d.shape == params2_1d.shape\n",
        "\n",
        "    return cosine_similarity(params1_1d, params2_1d)\n",
        "\n",
        "def plot_similarity_matrix(expt_trained_model_parameters: list[NDArrays],\n",
        "                           model_names: list[str] | None = None,\n",
        "                           title : str | None = None):\n",
        "\n",
        "    n_models = len(expt_trained_model_parameters)\n",
        "\n",
        "    # Flatten all the arrays\n",
        "    model_parameters_1d = [flatten(model_parameters)\n",
        "        for model_parameters in expt_trained_model_parameters]\n",
        "\n",
        "    flattened_parameter_shapes = [x.shape for x in model_parameters_1d]\n",
        "    assert len(set(flattened_parameter_shapes)) == 1\n",
        "    print(\"Number of parameters per model,\", flattened_parameter_shapes[0])\n",
        "\n",
        "    def parameter_cosine_similarity(x, y):\n",
        "        return cosine_similarity(model_parameters_1d[x],\n",
        "                                model_parameters_1d[y])\n",
        "\n",
        "    # Compute cosine similarity\n",
        "    similarity_matrix = np.zeros((n_models, n_models))\n",
        "    for i in range(n_models):\n",
        "        for j in range(n_models):\n",
        "            similarity_matrix[i][j] = parameter_cosine_similarity(i, j)\n",
        "\n",
        "    display(similarity_matrix)\n",
        "\n",
        "    # Plot the colour squares\n",
        "    fix, ax = plt.subplots()\n",
        "    im = ax.imshow(similarity_matrix, cmap=mpl.cm.Blues)\n",
        "    plt.colorbar(im)\n",
        "\n",
        "    if title:\n",
        "        plt.title(title)\n",
        "\n",
        "    # Add the axis labels onto the figure\n",
        "    ax.set_xticks(np.arange(n_models))\n",
        "    ax.set_yticks(np.arange(n_models))\n",
        "    if model_names:\n",
        "        assert len(model_names) == n_models\n",
        "        ax.set_xticklabels(model_names, rotation=45, ha=\"right\")\n",
        "        ax.set_yticklabels(model_names)\n",
        "\n",
        "    # Add the cell labels\n",
        "    for i in range(similarity_matrix.shape[0]):\n",
        "        for j in range(similarity_matrix.shape[1]):\n",
        "            text = f\"{similarity_matrix[i, j]:.4f}\"\n",
        "            ax.text(j, i, text, ha=\"center\", va=\"center\", color=\"black\")\n",
        "    plt.show()"
      ],
      "metadata": {
        "id": "IK6Ej7nKbOep"
      },
      "execution_count": 24,
      "outputs": []
    },
    {
      "cell_type": "code",
      "source": [
        "plot_similarity_matrix(trained_model_parameters,\n",
        "                       model_names=['client1', 'client2', 'client3', 'client4'],\n",
        "                       title='One epoch similarity matrix')"
      ],
      "metadata": {
        "colab": {
          "base_uri": "https://localhost:8080/",
          "height": 568
        },
        "id": "Y3sY_9a3fa7j",
        "outputId": "722c30c2-379a-48bf-b986-9c4d66ec9239"
      },
      "execution_count": 25,
      "outputs": [
        {
          "output_type": "stream",
          "name": "stdout",
          "text": [
            "Number of parameters per model, (48846,)\n"
          ]
        },
        {
          "output_type": "display_data",
          "data": {
            "text/plain": [
              "array([[0.99999994, 0.81993991, 0.91801685, 0.92299426],\n",
              "       [0.81993991, 1.        , 0.82623529, 0.82998985],\n",
              "       [0.91801685, 0.82623529, 1.        , 0.93666798],\n",
              "       [0.92299426, 0.82998985, 0.93666798, 1.        ]])"
            ]
          },
          "metadata": {}
        },
        {
          "output_type": "display_data",
          "data": {
            "text/plain": [
              "<Figure size 640x480 with 2 Axes>"
            ],
            "image/png": "[encoded data removed]"
          },
          "metadata": {}
        }
      ]
    },
    {
      "cell_type": "code",
      "source": [
        "plot_similarity_matrix(trained_model_parameters_5_epochs,\n",
        "                       model_names=['client1', 'client2', 'client3', 'client4'],\n",
        "                       title='Five epochs similarity matrix')"
      ],
      "metadata": {
        "colab": {
          "base_uri": "https://localhost:8080/",
          "height": 568
        },
        "id": "WrIhzcB3hEF-",
        "outputId": "76b7445f-fe92-408e-ca41-8788e5a0b335"
      },
      "execution_count": 26,
      "outputs": [
        {
          "output_type": "stream",
          "name": "stdout",
          "text": [
            "Number of parameters per model, (48846,)\n"
          ]
        },
        {
          "output_type": "display_data",
          "data": {
            "text/plain": [
              "array([[1.00000012, 0.66735429, 0.7690599 , 0.75027806],\n",
              "       [0.66735429, 1.        , 0.68200254, 0.65577549],\n",
              "       [0.7690599 , 0.68200254, 1.        , 0.76396668],\n",
              "       [0.75027806, 0.65577549, 0.76396668, 1.00000012]])"
            ]
          },
          "metadata": {}
        },
        {
          "output_type": "display_data",
          "data": {
            "text/plain": [
              "<Figure size 640x480 with 2 Axes>"
            ],
            "image/png": "[encoded data removed]"
          },
          "metadata": {}
        }
      ]
    },
    {
      "cell_type": "markdown",
      "source": [
        "**Question 6.3 Response:**\n",
        "\n",
        "The cosine similarity between weights decreases as the number of training epochs increase.  \n",
        "\n",
        "This could be because with more training, the clients are fitting the model more towards their own section of the data, causing the weights to diverge more from their initial starting state."
      ],
      "metadata": {
        "id": "Gd661Kwo4kGb"
      }
    },
    {
      "cell_type": "markdown",
      "metadata": {
        "id": "ifI1FmOywjqL"
      },
      "source": [
        "## 7. Federated training with Flower\n",
        "---"
      ]
    },
    {
      "cell_type": "markdown",
      "metadata": {
        "id": "pfDcWWoc2B5q"
      },
      "source": [
        "The two basic blocks of synchronous server-client FL systems are:\n",
        "- A client with some local training method and data---i.e., SGD. This is what we have built thus far.\n",
        "- A server which coordinates training sends the federated model to clients at the start of each round and aggregates model updates at the end of each round."
      ]
    },
    {
      "cell_type": "markdown",
      "metadata": {
        "id": "Fk9W7CTgoUxS"
      },
      "source": [
        "\n",
        "![picture](https://drive.google.com/uc?id=1Db_Uys2QPFHW6cMranZ_QXo2vC0A_C-N)"
      ]
    },
    {
      "cell_type": "markdown",
      "metadata": {
        "id": "Wdcfcz_e2B5q"
      },
      "source": [
        "While the variety of client local training methods is as wide as ML, server training varies depending on which **aggregation algorithm** combines the model updates and forms the new federated model. Flower refers to the component that controls the aggregation and train/test configuration as a **strategy**. For our labs, strategy and aggregation algorithms will be used interchangeably.\n",
        "\n",
        "The strategy we shall use is [FedAvg](https://arxiv.org/abs/1602.05629):\n",
        "\n",
        "$G^{r+1} = G^{r} + \\eta \\left( \\sum_{k=1}^{m} p_k G^r_k \\right)$,\n",
        "\n",
        "where $G^{r+1}$ is the model for the next round, which is formed by applying a model update to the current round model $G^{r}$ weighted by the aggregation learning rate $\\eta$. The model update is constructed by a sum of client models $G^{r}_k$ where each client model is weighted by $p_k$. The weight factor is usually set to $p_k = \\tfrac{n_k}{N}$---the number of training examples held by said client divided by the example count of each client in the round $N = \\sum_{k=1}^{m} n_k$.\n",
        "\n"
      ]
    },
    {
      "cell_type": "markdown",
      "metadata": {
        "id": "7unJaupF-IaB"
      },
      "source": [
        "---\n",
        "\n",
        "**Question 7 (Part II ✅ | Part III/MPhil ✅):**\n",
        "\n",
        "(You need to provide the answer with **code** for this question. Written argumentation is **strongly** recommended.)\n",
        "\n",
        "Averaging models is meant to provide us with a reasonable compromise between the desired models of all clients involved. Given what you already know about the similarity of client models, we can test if this is true.\n",
        "1. Write a function to compute the weighted average of two `NDArrays` objects while preserving the layer-structure. Use the FedAvg equation above with $p_k = \\tfrac{n_k}{N}$.\n",
        "2. Compute the average model of the client models above, both the one-epoch and multi-epoch ones.\n",
        "3. Add the averaged models to the cosine-similarity matrices built above, how does it relate to the client models?\n",
        "\n",
        "---\n",
        "\n",
        "**Question 8 (Part III/MPhil ✅):**\n",
        "\n",
        "(You need to provide the answer with **code** for this question. Written argumentation is **strongly** recommended.)\n",
        "\n",
        "\n",
        "1. Repeat the procedure above but for layer-wise cosine similarity and plot the cosine similarity of the two clients client most similar and most disimillar to the averaged model (as determined by the five-epoch condition) using the one-epoch models.\n",
        "2. How does the relationship change for the higher-epoch condition?\n",
        "\n",
        "---"
      ]
    },
    {
      "cell_type": "code",
      "source": [
        "import numpy.typing as npt\n",
        "\n",
        "\n",
        "\n",
        "\n",
        "def calculate_weighted_average(arr1:NDArrays, arr2:NDArrays):\n",
        "    pass\n",
        "\n",
        "\n",
        "def calculate_weighted_average(arrays: NDArrays,\n",
        "                               weights: npt.NDArray):\n",
        "\n",
        "    _arrays = np.array(arrays)\n",
        "    # print(_arrays, weights)\n",
        "    result = (np.tensordot(_arrays, weights, axes=(0,0)))\n",
        "    return result\n",
        "\n",
        "def calculate_weighted_average_across_layers(arrays:list[NDArrays],\n",
        "                                             weights:npt.NDArray):\n",
        "    weighted_average = []\n",
        "    for layer_idx in range(len(arrays[0])):\n",
        "        layer_parameters = [model_parameters[layer_idx] for model_parameters in arrays]\n",
        "        weighted_average.append(\n",
        "            calculate_weighted_average(layer_parameters, weights)\n",
        "        )\n",
        "\n",
        "    return weighted_average\n",
        "\n",
        "# calculate_weighted_average_across_layers([a, b], weights)\n",
        "\n",
        "number_of_examples = np.array(\n",
        "    [federated_client_generator(str(i)).get_train_set_size() for i in clients])\n",
        "weights = number_of_examples / sum(number_of_examples)\n",
        "\n",
        "weighted_average_model_5 = calculate_weighted_average_across_layers(\n",
        "    trained_model_parameters_5_epochs, weights)\n",
        "\n",
        "weighted_average_model_1 = calculate_weighted_average_across_layers(\n",
        "    trained_model_parameters,\n",
        "    weights\n",
        ")"
      ],
      "metadata": {
        "id": "ohU0ZxrSTAbQ",
        "colab": {
          "base_uri": "https://localhost:8080/"
        },
        "outputId": "48c3fbb7-0906-4b5e-cb0c-673ac3e453e8"
      },
      "execution_count": 27,
      "outputs": [
        {
          "output_type": "stream",
          "name": "stderr",
          "text": [
            "INFO flwr 2025-02-10 21:09:14,512 | <ipython-input-9-2c3670f7beb9>:21 | cid: 3175\n",
            "INFO:flwr:cid: 3175\n",
            "/content/labs/common/femnist_dataset.py:98: FutureWarning: You are using `torch.load` with `weights_only=False` (the current default value), which uses the default pickle module implicitly. It is possible to construct malicious pickle data which will execute arbitrary code during unpickling (See https://github.com/pytorch/pytorch/blob/main/SECURITY.md#untrusted-models for more details). In a future release, the default value for `weights_only` will be flipped to `True`. This limits the functions that could be executed during unpickling. Arbitrary objects will no longer be allowed to be loaded via this mode unless they are explicitly allowlisted by the user via `torch.serialization.add_safe_globals`. We recommend you start setting `weights_only=True` for any use case where you don't have full control of the loaded file. Please open an issue on GitHub for any issues related to this experimental feature.\n",
            "  return torch.load(preprocessed_path)\n",
            "INFO flwr 2025-02-10 21:09:14,519 | <ipython-input-9-2c3670f7beb9>:21 | cid: 51\n",
            "INFO:flwr:cid: 51\n",
            "INFO flwr 2025-02-10 21:09:14,524 | <ipython-input-9-2c3670f7beb9>:21 | cid: 1668\n",
            "INFO:flwr:cid: 1668\n",
            "INFO flwr 2025-02-10 21:09:14,530 | <ipython-input-9-2c3670f7beb9>:21 | cid: 1498\n",
            "INFO:flwr:cid: 1498\n"
          ]
        }
      ]
    },
    {
      "cell_type": "code",
      "source": [
        "plot_similarity_matrix(\n",
        "    trained_model_parameters_5_epochs + [weighted_average_model_5],\n",
        "    model_names = ['client1','client2','client3','client4','average'],\n",
        "    title = 'Five epoch similarity matrix, with average model'\n",
        ")"
      ],
      "metadata": {
        "colab": {
          "base_uri": "https://localhost:8080/",
          "height": 592
        },
        "id": "8lblzLrJzKdg",
        "outputId": "2a7e3cd2-9419-4692-b966-d549cd43a636"
      },
      "execution_count": 28,
      "outputs": [
        {
          "output_type": "stream",
          "name": "stdout",
          "text": [
            "Number of parameters per model, (48846,)\n"
          ]
        },
        {
          "output_type": "display_data",
          "data": {
            "text/plain": [
              "array([[1.00000012, 0.66735429, 0.7690599 , 0.75027806, 0.85348855],\n",
              "       [0.66735429, 1.        , 0.68200254, 0.65577549, 0.93240701],\n",
              "       [0.7690599 , 0.68200254, 1.        , 0.76396668, 0.85275978],\n",
              "       [0.75027806, 0.65577549, 0.76396668, 1.00000012, 0.84312609],\n",
              "       [0.85348855, 0.93240701, 0.85275978, 0.84312609, 1.        ]])"
            ]
          },
          "metadata": {}
        },
        {
          "output_type": "display_data",
          "data": {
            "text/plain": [
              "<Figure size 640x480 with 2 Axes>"
            ],
            "image/png": "[encoded data removed]"
          },
          "metadata": {}
        }
      ]
    },
    {
      "cell_type": "code",
      "source": [
        "plot_similarity_matrix(\n",
        "    trained_model_parameters + [weighted_average_model_1],\n",
        "    model_names = ['client1','client2','client3','client4','average'],\n",
        "    title = 'One epoch similarity matrix, with average model'\n",
        ")"
      ],
      "metadata": {
        "colab": {
          "base_uri": "https://localhost:8080/",
          "height": 592
        },
        "id": "7dvNpPiU2YEa",
        "outputId": "5ff7ee03-3dec-4aba-b3e1-1022ba9fddf9"
      },
      "execution_count": 29,
      "outputs": [
        {
          "output_type": "stream",
          "name": "stdout",
          "text": [
            "Number of parameters per model, (48846,)\n"
          ]
        },
        {
          "output_type": "display_data",
          "data": {
            "text/plain": [
              "array([[0.99999994, 0.81993991, 0.91801685, 0.92299426, 0.93459502],\n",
              "       [0.81993991, 1.        , 0.82623529, 0.82998985, 0.96006266],\n",
              "       [0.91801685, 0.82623529, 1.        , 0.93666798, 0.93684799],\n",
              "       [0.92299426, 0.82998985, 0.93666798, 1.        , 0.9412285 ],\n",
              "       [0.93459502, 0.96006266, 0.93684799, 0.9412285 , 1.        ]])"
            ]
          },
          "metadata": {}
        },
        {
          "output_type": "display_data",
          "data": {
            "text/plain": [
              "<Figure size 640x480 with 2 Axes>"
            ],
            "image/png": "[encoded data removed]"
          },
          "metadata": {}
        }
      ]
    },
    {
      "cell_type": "markdown",
      "metadata": {
        "id": "cxsFjUN03D1M"
      },
      "source": [
        "The pieces necessary for starting an FL simulation are now in play; we need to arrange them to fit the Flower API. First, we shall require a separate federated evaluation function which can be called outside the context of a specific client. It will use the centralised test set to be as simple as possible."
      ]
    },
    {
      "cell_type": "code",
      "execution_count": 30,
      "metadata": {
        "id": "OO7CqzaE3D1M"
      },
      "outputs": [],
      "source": [
        "def get_federated_evaluation_function(\n",
        "    batch_size: int,\n",
        "    num_workers: int,\n",
        "    model_generator: Callable[[], Module],\n",
        "    criterion: Module,\n",
        "    max_batches: int,\n",
        ") -> Callable[[int, NDArrays, dict[str, Any]], tuple[float, dict[str, Scalar]]]:\n",
        "    \"\"\"Wrap the external federated evaluation function.\n",
        "\n",
        "    It provides the external federated evaluation function with some\n",
        "    parameters for the dataloader, the model generator function, and\n",
        "    the criterion used in the evaluation.\n",
        "\n",
        "    Parameters\n",
        "    ----------\n",
        "        batch_size (int): batch size of the test set to use.\n",
        "        num_workers (int): correspond to `num_workers` param in the Dataloader object.\n",
        "        model_generator (Callable[[], Module]):  model generator function.\n",
        "        criterion (Module): PyTorch Module containing the criterion for evaluating the\n",
        "        model.\n",
        "\n",
        "    Returns\n",
        "    -------\n",
        "        Callable[[int, NDArrays, dict[str, Any]], tuple[float, dict[str, Scalar]]]:\n",
        "            external federated evaluation function.\n",
        "    \"\"\"\n",
        "\n",
        "    def federated_evaluation_function(\n",
        "        server_round: int,\n",
        "        parameters: NDArrays,\n",
        "        fed_eval_config: dict[\n",
        "            str, Any\n",
        "        ],  # mandatory argument, even if it's not being used\n",
        "    ) -> tuple[float, dict[str, Scalar]]:\n",
        "        \"\"\"Evaluate federated model on the server.\n",
        "\n",
        "        It uses the centralized val set for sake of simplicity.\n",
        "\n",
        "        Parameters\n",
        "        ----------\n",
        "            server_round (int): current federated round.\n",
        "            parameters (NDArrays): current model parameters.\n",
        "            fed_eval_config (dict[str, Any]): mandatory argument in Flower, can contain\n",
        "                some configuration info\n",
        "\n",
        "        Returns\n",
        "        -------\n",
        "            tuple[float, dict[str, Scalar]]: evaluation results\n",
        "        \"\"\"\n",
        "        device: str = get_device()\n",
        "        net: Module = set_model_parameters(model_generator(), parameters)\n",
        "        net.to(device)\n",
        "\n",
        "        full_file: Path = centralized_mapping\n",
        "        dataset: Dataset = load_femnist_dataset(data_dir, full_file, \"val\")\n",
        "\n",
        "        valid_loader = DataLoader(\n",
        "            dataset=dataset,\n",
        "            batch_size=batch_size,\n",
        "            shuffle=False,\n",
        "            num_workers=num_workers,\n",
        "            drop_last=False,\n",
        "        )\n",
        "\n",
        "        loss, acc = test_femnist(\n",
        "            net=net,\n",
        "            test_loader=valid_loader,\n",
        "            device=device,\n",
        "            criterion=criterion,\n",
        "            max_batches=max_batches,\n",
        "        )\n",
        "        return loss, {\"accuracy\": acc}\n",
        "\n",
        "    return federated_evaluation_function\n",
        "\n",
        "\n",
        "federated_evaluation_function = get_federated_evaluation_function(\n",
        "    batch_size=test_config[\"batch_size\"],\n",
        "    num_workers=test_config[\"num_workers\"],\n",
        "    model_generator=network_generator,\n",
        "    criterion=nn.CrossEntropyLoss(),\n",
        "    max_batches=test_config[\"max_batches\"],\n",
        ")"
      ]
    },
    {
      "cell_type": "code",
      "execution_count": 31,
      "metadata": {
        "id": "7D1cEkrB2B5r"
      },
      "outputs": [],
      "source": [
        "def aggregate_weighted_average(metrics: list[tuple[int, dict]]) -> dict:\n",
        "    \"\"\"Combine results from multiple clients following training or evaluation.\n",
        "\n",
        "    Parameters\n",
        "    ----------\n",
        "        metrics (list[tuple[int, dict]]): collected clients metrics\n",
        "\n",
        "    Returns\n",
        "    -------\n",
        "        dict: result dictionary containing the aggregate of the metrics passed.\n",
        "    \"\"\"\n",
        "    average_dict: dict = defaultdict(list)\n",
        "    total_examples: int = 0\n",
        "    for num_examples, metrics_dict in metrics:\n",
        "        for key, val in metrics_dict.items():\n",
        "            if isinstance(val, numbers.Number):\n",
        "                average_dict[key].append((num_examples, val))\n",
        "        total_examples += num_examples\n",
        "    return {\n",
        "        key: {\n",
        "            \"avg\": float(\n",
        "                sum([num_examples * metric for num_examples, metric in val])\n",
        "                / float(total_examples)\n",
        "            ),\n",
        "            \"all\": val,\n",
        "        }\n",
        "        for key, val in average_dict.items()\n",
        "    }"
      ]
    },
    {
      "cell_type": "code",
      "execution_count": 32,
      "metadata": {
        "id": "-sxyPBQ0zSoD"
      },
      "outputs": [],
      "source": [
        "# Federated configuration dictionary\n",
        "federated_train_config: dict[str, Any] = {\n",
        "    \"epochs\": 5,\n",
        "    \"batch_size\": 32,\n",
        "    \"client_learning_rate\": 0.01,\n",
        "    \"weight_decay\": 0.001,\n",
        "    \"num_workers\": 0,\n",
        "    \"max_batches\": 100,\n",
        "}"
      ]
    },
    {
      "cell_type": "markdown",
      "metadata": {
        "id": "JNLIfqk0xhDj"
      },
      "source": [
        "The only challenge left is the FL simulation itself. In `Flower`, a `Server` object handles this for us by using `Ray` and spawning many heavyweight worker process.\n",
        "\n",
        "Given the limited-resource scenario in which we find ourselves, we provide you with a slightly modified simulation function which uses a simple thread pool. Feel free to swap it out for the original simulation or replace it with your own implementation if so inclined.\n",
        "\n",
        "> The server we use is not the default `Flower` server as it returns the model parameters from every single round in a `(round, NDArrays)` tuple."
      ]
    },
    {
      "cell_type": "code",
      "execution_count": 33,
      "metadata": {
        "id": "1Fs5gtK-3D1M"
      },
      "outputs": [],
      "source": [
        "def start_seeded_simulation(\n",
        "    client_fn: Callable[[str], Client],\n",
        "    num_clients: int,\n",
        "    config: ServerConfig,\n",
        "    strategy: Strategy,\n",
        "    name: str,\n",
        "    return_all_parameters: bool = False,\n",
        "    seed: int = Seeds.DEFAULT,\n",
        "    iteration: int = 0,\n",
        ") -> tuple[list[tuple[int, NDArrays]], History]:\n",
        "    \"\"\"Wrap to seed client selection.\"\"\"\n",
        "    np.random.seed(seed ^ iteration)\n",
        "    torch.manual_seed(seed ^ iteration)\n",
        "    random.seed(seed ^ iteration)\n",
        "    parameter_list, hist = flwr.simulation.start_simulation_no_ray(\n",
        "        client_fn=client_fn,\n",
        "        num_clients=num_clients,\n",
        "        client_resources={},\n",
        "        config=config,\n",
        "        strategy=strategy,\n",
        "    )\n",
        "    save_history(home_dir, hist, name)\n",
        "    return parameter_list, hist"
      ]
    },
    {
      "cell_type": "code",
      "execution_count": 34,
      "metadata": {
        "id": "JkqplxMXLm8K"
      },
      "outputs": [],
      "source": [
        "num_rounds = 50\n",
        "num_total_clients = 20\n",
        "\n",
        "num_evaluate_clients = 0\n",
        "num_clients_per_round = 5\n",
        "\n",
        "initial_parameters = ndarrays_to_parameters(seed_model_params)\n",
        "\n",
        "\n",
        "def run_simulation(\n",
        "    # How long the FL process runs for:\n",
        "    num_rounds: int = num_rounds,\n",
        "    # Number of clients available\n",
        "    num_total_clients: int = num_total_clients,\n",
        "    # Number of clients used for train/eval\n",
        "    num_clients_per_round: int = num_clients_per_round,\n",
        "    num_evaluate_clients: int = num_evaluate_clients,\n",
        "    # If less clients are overall available stop FL\n",
        "    min_available_clients: int = num_total_clients,\n",
        "    # If less clients are available for fit/eval stop FL\n",
        "    min_fit_clients: int = num_clients_per_round,\n",
        "    min_evaluate_clients: int = num_evaluate_clients,\n",
        "    # Function to test the federated model performance\n",
        "    # external to a client instantiation\n",
        "    evaluate_fn: (\n",
        "        Callable[\n",
        "            [int, NDArrays, dict[str, Scalar]],\n",
        "            tuple[float, dict[str, Scalar]] | None,\n",
        "        ]\n",
        "        | None\n",
        "    ) = federated_evaluation_function,\n",
        "    # Functions to generate a config for client fit/evaluate\n",
        "    # by-default the same config is shallow-copied to all clients in Flower\n",
        "    # this version simply uses the configs defined above\n",
        "    on_fit_config_fn: Callable[\n",
        "        [int], dict[str, Scalar]\n",
        "    ] = lambda _x: federated_train_config,\n",
        "    on_evaluate_config_fn: Callable[[int], dict[str, Scalar]] = lambda _x: test_config,\n",
        "    # The \"Parameters\" type is merely a more packed version\n",
        "    # of numpy array lists, used internally by Flower\n",
        "    initial_parameters: Parameters = initial_parameters,\n",
        "    # If this is set to True, aggregation will work even if some clients fail\n",
        "    accept_failures: bool = False,\n",
        "    # How to combine the metrics dictionary returned by all clients for fit/eval\n",
        "    fit_metrics_aggregation_fn: Callable | None = aggregate_weighted_average,\n",
        "    evaluate_metrics_aggregation_fn: Callable | None = aggregate_weighted_average,\n",
        "    federated_client_generator: Callable[\n",
        "        [str], flwr.client.NumPyClient\n",
        "    ] = federated_client_generator,\n",
        "    # Aggregation learning rate for FedAvg\n",
        "    server_learning_rate: float = 1.0,\n",
        "    server_momentum: float = 0.0,\n",
        ") -> tuple[list[tuple[int, NDArrays]], History]:\n",
        "    \"\"\"Run a federated simulation using Flower.\"\"\"\n",
        "    log(INFO, \"FL will execute for %s rounds\", num_rounds)\n",
        "\n",
        "    # Percentage of clients used for train/eval\n",
        "    fraction_fit: float = float(num_clients_per_round) / num_total_clients\n",
        "    fraction_evaluate: float = float(num_evaluate_clients) / num_total_clients\n",
        "\n",
        "    strategy = FedAvg(\n",
        "        fraction_fit=fraction_fit,\n",
        "        fraction_evaluate=fraction_evaluate,\n",
        "        min_fit_clients=min_fit_clients,\n",
        "        min_evaluate_clients=min_evaluate_clients,\n",
        "        min_available_clients=min_available_clients,\n",
        "        on_fit_config_fn=on_fit_config_fn,\n",
        "        on_evaluate_config_fn=on_evaluate_config_fn,\n",
        "        evaluate_fn=evaluate_fn,\n",
        "        initial_parameters=initial_parameters,\n",
        "        accept_failures=accept_failures,\n",
        "        fit_metrics_aggregation_fn=fit_metrics_aggregation_fn,\n",
        "        evaluate_metrics_aggregation_fn=evaluate_metrics_aggregation_fn,\n",
        "        server_learning_rate=server_learning_rate,\n",
        "        server_momentum=server_momentum,\n",
        "    )\n",
        "    # resetting the seed for the random selection of clients\n",
        "    # this way the list of clients trained is guaranteed to be always the same\n",
        "\n",
        "    cfg = ServerConfig(num_rounds)\n",
        "\n",
        "    def simulator_client_generator(cid: str) -> Client:\n",
        "        return federated_client_generator(cid).to_client()\n",
        "\n",
        "    parameters_for_each_round, hist = start_seeded_simulation(\n",
        "        client_fn=simulator_client_generator,\n",
        "        num_clients=num_total_clients,\n",
        "        config=cfg,\n",
        "        strategy=strategy,\n",
        "        name=\"fedavg\",\n",
        "        return_all_parameters=True,\n",
        "        seed=Seeds.DEFAULT,\n",
        "    )\n",
        "    return parameters_for_each_round, hist"
      ]
    },
    {
      "cell_type": "code",
      "execution_count": null,
      "metadata": {
        "id": "i4HpswKXbDup",
        "outputId": "f83d0819-bed4-45ee-de56-aa4f93cb8f9f",
        "colab": {
          "base_uri": "https://localhost:8080/"
        },
        "collapsed": true
      },
      "outputs": [
        {
          "output_type": "stream",
          "name": "stderr",
          "text": [
            "INFO flwr 2025-02-10 21:09:16,276 | <ipython-input-34-621c42aa986e>:55 | FL will execute for 50 rounds\n",
            "INFO:flwr:FL will execute for 50 rounds\n",
            "INFO flwr 2025-02-10 21:09:16,284 | app.py:149 | Starting Flower simulation, config: ServerConfig(num_rounds=50, round_timeout=None)\n",
            "INFO:flwr:Starting Flower simulation, config: ServerConfig(num_rounds=50, round_timeout=None)\n",
            "INFO flwr 2025-02-10 21:09:16,288 | server_returns_parameters.py:81 | Initializing global parameters\n",
            "INFO:flwr:Initializing global parameters\n",
            "INFO flwr 2025-02-10 21:09:16,290 | server_returns_parameters.py:273 | Using initial parameters provided by strategy\n",
            "INFO:flwr:Using initial parameters provided by strategy\n",
            "INFO flwr 2025-02-10 21:09:16,295 | server_returns_parameters.py:84 | Evaluating initial parameters\n",
            "INFO:flwr:Evaluating initial parameters\n",
            " 11%|█         | 100/891 [00:03<00:31, 25.26it/s]\n",
            "INFO flwr 2025-02-10 21:09:20,380 | server_returns_parameters.py:87 | initial parameters (loss, other metrics): 413.6842646598816, {'accuracy': 0.0065625}\n",
            "INFO:flwr:initial parameters (loss, other metrics): 413.6842646598816, {'accuracy': 0.0065625}\n",
            "INFO flwr 2025-02-10 21:09:20,386 | server_returns_parameters.py:97 | FL starting\n",
            "INFO:flwr:FL starting\n",
            "DEBUG flwr 2025-02-10 21:09:20,392 | server_returns_parameters.py:223 | fit_round 1: strategy sampled 5 clients (out of 20)\n",
            "DEBUG:flwr:fit_round 1: strategy sampled 5 clients (out of 20)\n",
            "INFO flwr 2025-02-10 21:09:20,396 | <ipython-input-9-2c3670f7beb9>:21 | cid: 1494\n",
            "INFO:flwr:cid: 1494\n",
            "INFO flwr 2025-02-10 21:09:20,397 | <ipython-input-9-2c3670f7beb9>:21 | cid: 3119\n",
            "INFO flwr 2025-02-10 21:09:20,398 | <ipython-input-9-2c3670f7beb9>:21 | cid: 2600\n",
            "INFO:flwr:cid: 3119\n",
            "INFO:flwr:cid: 2600\n",
            "INFO flwr 2025-02-10 21:09:20,399 | <ipython-input-9-2c3670f7beb9>:21 | cid: 2399\n",
            "/content/labs/common/femnist_dataset.py:98: FutureWarning: You are using `torch.load` with `weights_only=False` (the current default value), which uses the default pickle module implicitly. It is possible to construct malicious pickle data which will execute arbitrary code during unpickling (See https://github.com/pytorch/pytorch/blob/main/SECURITY.md#untrusted-models for more details). In a future release, the default value for `weights_only` will be flipped to `True`. This limits the functions that could be executed during unpickling. Arbitrary objects will no longer be allowed to be loaded via this mode unless they are explicitly allowlisted by the user via `torch.serialization.add_safe_globals`. We recommend you start setting `weights_only=True` for any use case where you don't have full control of the loaded file. Please open an issue on GitHub for any issues related to this experimental feature.\n",
            "  return torch.load(preprocessed_path)\n",
            "INFO:flwr:cid: 2399\n",
            "INFO flwr 2025-02-10 21:09:20,400 | <ipython-input-9-2c3670f7beb9>:21 | cid: 1571\n",
            "INFO:flwr:cid: 1571\n",
            "DEBUG flwr 2025-02-10 21:09:23,192 | server_returns_parameters.py:237 | fit_round 1 received 5 results and 0 failures\n",
            "DEBUG:flwr:fit_round 1 received 5 results and 0 failures\n",
            " 11%|█         | 100/891 [00:01<00:15, 51.59it/s]\n",
            "INFO flwr 2025-02-10 21:09:25,193 | server_returns_parameters.py:120 | fit progress: (1, 356.71586084365845, {'accuracy': 0.069375}, 4.801655032000099)\n",
            "INFO:flwr:fit progress: (1, 356.71586084365845, {'accuracy': 0.069375}, 4.801655032000099)\n",
            "INFO flwr 2025-02-10 21:09:25,201 | server_returns_parameters.py:171 | evaluate_round 1: no clients selected, cancel\n",
            "INFO:flwr:evaluate_round 1: no clients selected, cancel\n",
            "DEBUG flwr 2025-02-10 21:09:25,208 | server_returns_parameters.py:223 | fit_round 2: strategy sampled 5 clients (out of 20)\n",
            "DEBUG:flwr:fit_round 2: strategy sampled 5 clients (out of 20)\n",
            "INFO flwr 2025-02-10 21:09:25,213 | <ipython-input-9-2c3670f7beb9>:21 | cid: 1473\n",
            "INFO:flwr:cid: 1473\n",
            "INFO flwr 2025-02-10 21:09:25,219 | <ipython-input-9-2c3670f7beb9>:21 | cid: 2600\n",
            "INFO:flwr:cid: 2600\n",
            "INFO flwr 2025-02-10 21:09:25,220 | <ipython-input-9-2c3670f7beb9>:21 | cid: 1363\n",
            "INFO:flwr:cid: 1363\n",
            "INFO flwr 2025-02-10 21:09:25,222 | <ipython-input-9-2c3670f7beb9>:21 | cid: 1494\n",
            "INFO:flwr:cid: 1494\n",
            "INFO flwr 2025-02-10 21:09:25,223 | <ipython-input-9-2c3670f7beb9>:21 | cid: 2997\n",
            "INFO:flwr:cid: 2997\n",
            "DEBUG flwr 2025-02-10 21:09:28,348 | server_returns_parameters.py:237 | fit_round 2 received 5 results and 0 failures\n",
            "DEBUG:flwr:fit_round 2 received 5 results and 0 failures\n",
            " 11%|█         | 100/891 [00:01<00:11, 69.46it/s]\n",
            "INFO flwr 2025-02-10 21:09:29,862 | server_returns_parameters.py:120 | fit progress: (2, 343.7116210460663, {'accuracy': 0.074375}, 9.471130155000083)\n",
            "INFO:flwr:fit progress: (2, 343.7116210460663, {'accuracy': 0.074375}, 9.471130155000083)\n",
            "INFO flwr 2025-02-10 21:09:29,867 | server_returns_parameters.py:171 | evaluate_round 2: no clients selected, cancel\n",
            "INFO:flwr:evaluate_round 2: no clients selected, cancel\n",
            "DEBUG flwr 2025-02-10 21:09:29,870 | server_returns_parameters.py:223 | fit_round 3: strategy sampled 5 clients (out of 20)\n",
            "DEBUG:flwr:fit_round 3: strategy sampled 5 clients (out of 20)\n",
            "INFO flwr 2025-02-10 21:09:29,873 | <ipython-input-9-2c3670f7beb9>:21 | cid: 2600\n",
            "INFO:flwr:cid: 2600\n",
            "INFO flwr 2025-02-10 21:09:29,876 | <ipython-input-9-2c3670f7beb9>:21 | cid: 1498\n",
            "INFO:flwr:cid: 1498\n",
            "INFO flwr 2025-02-10 21:09:29,877 | <ipython-input-9-2c3670f7beb9>:21 | cid: 1260\n",
            "INFO flwr 2025-02-10 21:09:29,888 | <ipython-input-9-2c3670f7beb9>:21 | cid: 1473\n",
            "INFO:flwr:cid: 1260\n",
            "INFO:flwr:cid: 1473\n",
            "INFO flwr 2025-02-10 21:09:29,890 | <ipython-input-9-2c3670f7beb9>:21 | cid: 2907\n",
            "INFO:flwr:cid: 2907\n",
            "DEBUG flwr 2025-02-10 21:09:32,697 | server_returns_parameters.py:237 | fit_round 3 received 5 results and 0 failures\n",
            "DEBUG:flwr:fit_round 3 received 5 results and 0 failures\n",
            " 11%|█         | 100/891 [00:01<00:10, 76.83it/s]\n",
            "INFO flwr 2025-02-10 21:09:34,038 | server_returns_parameters.py:120 | fit progress: (3, 342.21675968170166, {'accuracy': 0.079375}, 13.646609877999936)\n",
            "INFO:flwr:fit progress: (3, 342.21675968170166, {'accuracy': 0.079375}, 13.646609877999936)\n",
            "INFO flwr 2025-02-10 21:09:34,044 | server_returns_parameters.py:171 | evaluate_round 3: no clients selected, cancel\n",
            "INFO:flwr:evaluate_round 3: no clients selected, cancel\n",
            "DEBUG flwr 2025-02-10 21:09:34,047 | server_returns_parameters.py:223 | fit_round 4: strategy sampled 5 clients (out of 20)\n",
            "DEBUG:flwr:fit_round 4: strategy sampled 5 clients (out of 20)\n",
            "INFO flwr 2025-02-10 21:09:34,054 | <ipython-input-9-2c3670f7beb9>:21 | cid: 839\n",
            "INFO:flwr:cid: 839\n",
            "INFO flwr 2025-02-10 21:09:34,056 | <ipython-input-9-2c3670f7beb9>:21 | cid: 2600\n",
            "INFO:flwr:cid: 2600\n",
            "INFO flwr 2025-02-10 21:09:34,062 | <ipython-input-9-2c3670f7beb9>:21 | cid: 1473\n",
            "INFO:flwr:cid: 1473\n",
            "INFO flwr 2025-02-10 21:09:34,066 | <ipython-input-9-2c3670f7beb9>:21 | cid: 3119\n",
            "INFO:flwr:cid: 3119\n",
            "INFO flwr 2025-02-10 21:09:34,074 | <ipython-input-9-2c3670f7beb9>:21 | cid: 1363\n",
            "INFO:flwr:cid: 1363\n",
            "DEBUG flwr 2025-02-10 21:09:36,432 | server_returns_parameters.py:237 | fit_round 4 received 5 results and 0 failures\n",
            "DEBUG:flwr:fit_round 4 received 5 results and 0 failures\n",
            " 11%|█         | 100/891 [00:01<00:10, 75.89it/s]\n",
            "INFO flwr 2025-02-10 21:09:37,791 | server_returns_parameters.py:120 | fit progress: (4, 333.50695157051086, {'accuracy': 0.1625}, 17.400082486999963)\n",
            "INFO:flwr:fit progress: (4, 333.50695157051086, {'accuracy': 0.1625}, 17.400082486999963)\n",
            "INFO flwr 2025-02-10 21:09:37,797 | server_returns_parameters.py:171 | evaluate_round 4: no clients selected, cancel\n",
            "INFO:flwr:evaluate_round 4: no clients selected, cancel\n",
            "DEBUG flwr 2025-02-10 21:09:37,800 | server_returns_parameters.py:223 | fit_round 5: strategy sampled 5 clients (out of 20)\n",
            "DEBUG:flwr:fit_round 5: strategy sampled 5 clients (out of 20)\n",
            "INFO flwr 2025-02-10 21:09:37,807 | <ipython-input-9-2c3670f7beb9>:21 | cid: 2530\n",
            "INFO:flwr:cid: 2530\n",
            "INFO flwr 2025-02-10 21:09:37,808 | <ipython-input-9-2c3670f7beb9>:21 | cid: 2600\n",
            "INFO:flwr:cid: 2600\n",
            "INFO flwr 2025-02-10 21:09:37,815 | <ipython-input-9-2c3670f7beb9>:21 | cid: 1498\n",
            "INFO:flwr:cid: 1498\n",
            "INFO flwr 2025-02-10 21:09:37,818 | <ipython-input-9-2c3670f7beb9>:21 | cid: 1603\n",
            "INFO:flwr:cid: 1603\n",
            "INFO flwr 2025-02-10 21:09:37,823 | <ipython-input-9-2c3670f7beb9>:21 | cid: 678\n",
            "INFO:flwr:cid: 678\n",
            "DEBUG flwr 2025-02-10 21:09:42,946 | server_returns_parameters.py:237 | fit_round 5 received 5 results and 0 failures\n",
            "DEBUG:flwr:fit_round 5 received 5 results and 0 failures\n",
            " 11%|█         | 100/891 [00:01<00:14, 53.73it/s]\n",
            "INFO flwr 2025-02-10 21:09:44,866 | server_returns_parameters.py:120 | fit progress: (5, 298.4511181116104, {'accuracy': 0.19375}, 24.474587435000103)\n",
            "INFO:flwr:fit progress: (5, 298.4511181116104, {'accuracy': 0.19375}, 24.474587435000103)\n",
            "INFO flwr 2025-02-10 21:09:44,870 | server_returns_parameters.py:171 | evaluate_round 5: no clients selected, cancel\n",
            "INFO:flwr:evaluate_round 5: no clients selected, cancel\n",
            "DEBUG flwr 2025-02-10 21:09:44,874 | server_returns_parameters.py:223 | fit_round 6: strategy sampled 5 clients (out of 20)\n",
            "DEBUG:flwr:fit_round 6: strategy sampled 5 clients (out of 20)\n",
            "INFO flwr 2025-02-10 21:09:44,879 | <ipython-input-9-2c3670f7beb9>:21 | cid: 2399\n",
            "INFO:flwr:cid: 2399\n",
            "INFO flwr 2025-02-10 21:09:44,886 | <ipython-input-9-2c3670f7beb9>:21 | cid: 1571\n",
            "INFO flwr 2025-02-10 21:09:44,891 | <ipython-input-9-2c3670f7beb9>:21 | cid: 1603\n",
            "INFO flwr 2025-02-10 21:09:44,896 | <ipython-input-9-2c3670f7beb9>:21 | cid: 3175\n",
            "INFO flwr 2025-02-10 21:09:44,902 | <ipython-input-9-2c3670f7beb9>:21 | cid: 2997\n",
            "INFO:flwr:cid: 1571\n",
            "INFO:flwr:cid: 1603\n",
            "INFO:flwr:cid: 3175\n",
            "INFO:flwr:cid: 2997\n",
            "DEBUG flwr 2025-02-10 21:09:47,641 | server_returns_parameters.py:237 | fit_round 6 received 5 results and 0 failures\n",
            "DEBUG:flwr:fit_round 6 received 5 results and 0 failures\n",
            " 11%|█         | 100/891 [00:01<00:10, 76.15it/s]\n",
            "INFO flwr 2025-02-10 21:09:48,996 | server_returns_parameters.py:120 | fit progress: (6, 286.20199501514435, {'accuracy': 0.275625}, 28.604665417999968)\n",
            "INFO:flwr:fit progress: (6, 286.20199501514435, {'accuracy': 0.275625}, 28.604665417999968)\n",
            "INFO flwr 2025-02-10 21:09:49,003 | server_returns_parameters.py:171 | evaluate_round 6: no clients selected, cancel\n",
            "INFO:flwr:evaluate_round 6: no clients selected, cancel\n",
            "DEBUG flwr 2025-02-10 21:09:49,007 | server_returns_parameters.py:223 | fit_round 7: strategy sampled 5 clients (out of 20)\n",
            "DEBUG:flwr:fit_round 7: strategy sampled 5 clients (out of 20)\n",
            "INFO flwr 2025-02-10 21:09:49,010 | <ipython-input-9-2c3670f7beb9>:21 | cid: 3119\n",
            "INFO:flwr:cid: 3119\n",
            "INFO flwr 2025-02-10 21:09:49,011 | <ipython-input-9-2c3670f7beb9>:21 | cid: 2907\n",
            "INFO:flwr:cid: 2907\n",
            "INFO flwr 2025-02-10 21:09:49,013 | <ipython-input-9-2c3670f7beb9>:21 | cid: 839\n",
            "INFO:flwr:cid: 839\n",
            "INFO flwr 2025-02-10 21:09:49,013 | <ipython-input-9-2c3670f7beb9>:21 | cid: 2184\n",
            "INFO:flwr:cid: 2184\n",
            "INFO flwr 2025-02-10 21:09:49,016 | <ipython-input-9-2c3670f7beb9>:21 | cid: 2688\n",
            "INFO:flwr:cid: 2688\n",
            "DEBUG flwr 2025-02-10 21:09:51,423 | server_returns_parameters.py:237 | fit_round 7 received 5 results and 0 failures\n",
            "DEBUG:flwr:fit_round 7 received 5 results and 0 failures\n",
            " 11%|█         | 100/891 [00:01<00:10, 75.72it/s]\n",
            "INFO flwr 2025-02-10 21:09:52,785 | server_returns_parameters.py:120 | fit progress: (7, 266.3411362171173, {'accuracy': 0.3221875}, 32.39367135500015)\n",
            "INFO:flwr:fit progress: (7, 266.3411362171173, {'accuracy': 0.3221875}, 32.39367135500015)\n",
            "INFO flwr 2025-02-10 21:09:52,789 | server_returns_parameters.py:171 | evaluate_round 7: no clients selected, cancel\n",
            "INFO:flwr:evaluate_round 7: no clients selected, cancel\n",
            "DEBUG flwr 2025-02-10 21:09:52,794 | server_returns_parameters.py:223 | fit_round 8: strategy sampled 5 clients (out of 20)\n",
            "DEBUG:flwr:fit_round 8: strategy sampled 5 clients (out of 20)\n",
            "INFO flwr 2025-02-10 21:09:52,797 | <ipython-input-9-2c3670f7beb9>:21 | cid: 1260\n",
            "INFO:flwr:cid: 1260\n",
            "INFO flwr 2025-02-10 21:09:52,799 | <ipython-input-9-2c3670f7beb9>:21 | cid: 2184\n",
            "INFO flwr 2025-02-10 21:09:52,803 | <ipython-input-9-2c3670f7beb9>:21 | cid: 2530\n",
            "INFO:flwr:cid: 2184\n",
            "INFO:flwr:cid: 2530\n",
            "INFO flwr 2025-02-10 21:09:52,820 | <ipython-input-9-2c3670f7beb9>:21 | cid: 2997\n",
            "INFO:flwr:cid: 2997\n",
            "INFO flwr 2025-02-10 21:09:52,831 | <ipython-input-9-2c3670f7beb9>:21 | cid: 839\n",
            "INFO:flwr:cid: 839\n",
            "DEBUG flwr 2025-02-10 21:09:55,786 | server_returns_parameters.py:237 | fit_round 8 received 5 results and 0 failures\n",
            "DEBUG:flwr:fit_round 8 received 5 results and 0 failures\n",
            " 11%|█         | 100/891 [00:01<00:10, 73.66it/s]\n",
            "INFO flwr 2025-02-10 21:09:57,191 | server_returns_parameters.py:120 | fit progress: (8, 250.95729100704193, {'accuracy': 0.3803125}, 36.799217720000115)\n",
            "INFO:flwr:fit progress: (8, 250.95729100704193, {'accuracy': 0.3803125}, 36.799217720000115)\n",
            "INFO flwr 2025-02-10 21:09:57,196 | server_returns_parameters.py:171 | evaluate_round 8: no clients selected, cancel\n",
            "INFO:flwr:evaluate_round 8: no clients selected, cancel\n",
            "DEBUG flwr 2025-02-10 21:09:57,204 | server_returns_parameters.py:223 | fit_round 9: strategy sampled 5 clients (out of 20)\n",
            "DEBUG:flwr:fit_round 9: strategy sampled 5 clients (out of 20)\n",
            "INFO flwr 2025-02-10 21:09:57,210 | <ipython-input-9-2c3670f7beb9>:21 | cid: 1498\n",
            "INFO:flwr:cid: 1498\n",
            "INFO flwr 2025-02-10 21:09:57,223 | <ipython-input-9-2c3670f7beb9>:21 | cid: 1363\n",
            "INFO:flwr:cid: 1363\n",
            "INFO flwr 2025-02-10 21:09:57,225 | <ipython-input-9-2c3670f7beb9>:21 | cid: 2997\n",
            "INFO flwr 2025-02-10 21:09:57,230 | <ipython-input-9-2c3670f7beb9>:21 | cid: 1603\n",
            "INFO flwr 2025-02-10 21:09:57,237 | <ipython-input-9-2c3670f7beb9>:21 | cid: 1571\n",
            "INFO:flwr:cid: 2997\n",
            "INFO:flwr:cid: 1603\n",
            "INFO:flwr:cid: 1571\n",
            "DEBUG flwr 2025-02-10 21:10:00,011 | server_returns_parameters.py:237 | fit_round 9 received 5 results and 0 failures\n",
            "DEBUG:flwr:fit_round 9 received 5 results and 0 failures\n",
            " 11%|█         | 100/891 [00:01<00:15, 52.69it/s]\n",
            "INFO flwr 2025-02-10 21:10:01,969 | server_returns_parameters.py:120 | fit progress: (9, 239.7045979499817, {'accuracy': 0.433125}, 41.578039795999985)\n",
            "INFO:flwr:fit progress: (9, 239.7045979499817, {'accuracy': 0.433125}, 41.578039795999985)\n",
            "INFO flwr 2025-02-10 21:10:01,974 | server_returns_parameters.py:171 | evaluate_round 9: no clients selected, cancel\n",
            "INFO:flwr:evaluate_round 9: no clients selected, cancel\n",
            "DEBUG flwr 2025-02-10 21:10:01,979 | server_returns_parameters.py:223 | fit_round 10: strategy sampled 5 clients (out of 20)\n",
            "DEBUG:flwr:fit_round 10: strategy sampled 5 clients (out of 20)\n",
            "INFO flwr 2025-02-10 21:10:01,984 | <ipython-input-9-2c3670f7beb9>:21 | cid: 2530\n",
            "INFO:flwr:cid: 2530\n",
            "INFO flwr 2025-02-10 21:10:01,996 | <ipython-input-9-2c3670f7beb9>:21 | cid: 1571\n",
            "INFO:flwr:cid: 1571\n",
            "INFO flwr 2025-02-10 21:10:02,008 | <ipython-input-9-2c3670f7beb9>:21 | cid: 1260\n",
            "INFO:flwr:cid: 1260\n",
            "INFO flwr 2025-02-10 21:10:02,025 | <ipython-input-9-2c3670f7beb9>:21 | cid: 678\n",
            "INFO:flwr:cid: 678\n",
            "INFO flwr 2025-02-10 21:10:02,051 | <ipython-input-9-2c3670f7beb9>:21 | cid: 2184\n",
            "INFO:flwr:cid: 2184\n",
            "DEBUG flwr 2025-02-10 21:10:05,801 | server_returns_parameters.py:237 | fit_round 10 received 5 results and 0 failures\n",
            "DEBUG:flwr:fit_round 10 received 5 results and 0 failures\n",
            " 11%|█         | 100/891 [00:01<00:10, 74.13it/s]\n",
            "INFO flwr 2025-02-10 21:10:07,191 | server_returns_parameters.py:120 | fit progress: (10, 248.00580382347107, {'accuracy': 0.373125}, 46.80011607000006)\n",
            "INFO:flwr:fit progress: (10, 248.00580382347107, {'accuracy': 0.373125}, 46.80011607000006)\n",
            "INFO flwr 2025-02-10 21:10:07,199 | server_returns_parameters.py:171 | evaluate_round 10: no clients selected, cancel\n",
            "INFO:flwr:evaluate_round 10: no clients selected, cancel\n",
            "DEBUG flwr 2025-02-10 21:10:07,205 | server_returns_parameters.py:223 | fit_round 11: strategy sampled 5 clients (out of 20)\n",
            "DEBUG:flwr:fit_round 11: strategy sampled 5 clients (out of 20)\n",
            "INFO flwr 2025-02-10 21:10:07,211 | <ipython-input-9-2c3670f7beb9>:21 | cid: 3119\n",
            "INFO:flwr:cid: 3119\n",
            "INFO flwr 2025-02-10 21:10:07,213 | <ipython-input-9-2c3670f7beb9>:21 | cid: 2997\n",
            "INFO:flwr:cid: 2997\n",
            "INFO flwr 2025-02-10 21:10:07,222 | <ipython-input-9-2c3670f7beb9>:21 | cid: 2399\n",
            "INFO:flwr:cid: 2399\n",
            "INFO flwr 2025-02-10 21:10:07,212 | <ipython-input-9-2c3670f7beb9>:21 | cid: 1363\n",
            "INFO:flwr:cid: 1363\n",
            "INFO flwr 2025-02-10 21:10:07,223 | <ipython-input-9-2c3670f7beb9>:21 | cid: 839\n",
            "INFO:flwr:cid: 839\n",
            "DEBUG flwr 2025-02-10 21:10:09,740 | server_returns_parameters.py:237 | fit_round 11 received 5 results and 0 failures\n",
            "DEBUG:flwr:fit_round 11 received 5 results and 0 failures\n",
            " 11%|█         | 100/891 [00:01<00:10, 75.66it/s]\n",
            "INFO flwr 2025-02-10 21:10:11,101 | server_returns_parameters.py:120 | fit progress: (11, 217.10645419359207, {'accuracy': 0.46625}, 50.70992271900013)\n",
            "INFO:flwr:fit progress: (11, 217.10645419359207, {'accuracy': 0.46625}, 50.70992271900013)\n",
            "INFO flwr 2025-02-10 21:10:11,106 | server_returns_parameters.py:171 | evaluate_round 11: no clients selected, cancel\n",
            "INFO:flwr:evaluate_round 11: no clients selected, cancel\n",
            "DEBUG flwr 2025-02-10 21:10:11,113 | server_returns_parameters.py:223 | fit_round 12: strategy sampled 5 clients (out of 20)\n",
            "DEBUG:flwr:fit_round 12: strategy sampled 5 clients (out of 20)\n",
            "INFO flwr 2025-02-10 21:10:11,119 | <ipython-input-9-2c3670f7beb9>:21 | cid: 2184\n",
            "INFO:flwr:cid: 2184\n",
            "INFO flwr 2025-02-10 21:10:11,120 | <ipython-input-9-2c3670f7beb9>:21 | cid: 2855\n",
            "INFO flwr 2025-02-10 21:10:11,124 | <ipython-input-9-2c3670f7beb9>:21 | cid: 1603\n",
            "INFO:flwr:cid: 2855\n",
            "INFO:flwr:cid: 1603\n",
            "INFO flwr 2025-02-10 21:10:11,134 | <ipython-input-9-2c3670f7beb9>:21 | cid: 2530\n",
            "INFO:flwr:cid: 2530\n",
            "INFO flwr 2025-02-10 21:10:11,135 | <ipython-input-9-2c3670f7beb9>:21 | cid: 2688\n",
            "INFO:flwr:cid: 2688\n",
            "DEBUG flwr 2025-02-10 21:10:13,678 | server_returns_parameters.py:237 | fit_round 12 received 5 results and 0 failures\n",
            "DEBUG:flwr:fit_round 12 received 5 results and 0 failures\n",
            " 11%|█         | 100/891 [00:01<00:10, 72.51it/s]\n",
            "INFO flwr 2025-02-10 21:10:15,098 | server_returns_parameters.py:120 | fit progress: (12, 215.4574117064476, {'accuracy': 0.4775}, 54.70638297100004)\n",
            "INFO:flwr:fit progress: (12, 215.4574117064476, {'accuracy': 0.4775}, 54.70638297100004)\n",
            "INFO flwr 2025-02-10 21:10:15,103 | server_returns_parameters.py:171 | evaluate_round 12: no clients selected, cancel\n",
            "INFO:flwr:evaluate_round 12: no clients selected, cancel\n",
            "DEBUG flwr 2025-02-10 21:10:15,107 | server_returns_parameters.py:223 | fit_round 13: strategy sampled 5 clients (out of 20)\n",
            "DEBUG:flwr:fit_round 13: strategy sampled 5 clients (out of 20)\n",
            "INFO flwr 2025-02-10 21:10:15,110 | <ipython-input-9-2c3670f7beb9>:21 | cid: 3119\n",
            "INFO:flwr:cid: 3119\n",
            "INFO flwr 2025-02-10 21:10:15,111 | <ipython-input-9-2c3670f7beb9>:21 | cid: 2600\n",
            "INFO:flwr:cid: 2600\n",
            "INFO flwr 2025-02-10 21:10:15,112 | <ipython-input-9-2c3670f7beb9>:21 | cid: 1494\n",
            "INFO:flwr:cid: 1494\n",
            "INFO flwr 2025-02-10 21:10:15,113 | <ipython-input-9-2c3670f7beb9>:21 | cid: 3175\n",
            "INFO:flwr:cid: 3175\n",
            "INFO flwr 2025-02-10 21:10:15,115 | <ipython-input-9-2c3670f7beb9>:21 | cid: 839\n",
            "INFO:flwr:cid: 839\n",
            "DEBUG flwr 2025-02-10 21:10:18,039 | server_returns_parameters.py:237 | fit_round 13 received 5 results and 0 failures\n",
            "DEBUG:flwr:fit_round 13 received 5 results and 0 failures\n",
            " 11%|█         | 100/891 [00:01<00:14, 54.28it/s]\n",
            "INFO flwr 2025-02-10 21:10:19,947 | server_returns_parameters.py:120 | fit progress: (13, 196.7624209523201, {'accuracy': 0.49625}, 59.555688390000114)\n",
            "INFO:flwr:fit progress: (13, 196.7624209523201, {'accuracy': 0.49625}, 59.555688390000114)\n",
            "INFO flwr 2025-02-10 21:10:19,951 | server_returns_parameters.py:171 | evaluate_round 13: no clients selected, cancel\n",
            "INFO:flwr:evaluate_round 13: no clients selected, cancel\n",
            "DEBUG flwr 2025-02-10 21:10:19,956 | server_returns_parameters.py:223 | fit_round 14: strategy sampled 5 clients (out of 20)\n",
            "DEBUG:flwr:fit_round 14: strategy sampled 5 clients (out of 20)\n",
            "INFO flwr 2025-02-10 21:10:19,962 | <ipython-input-9-2c3670f7beb9>:21 | cid: 2907\n",
            "INFO:flwr:cid: 2907\n",
            "INFO flwr 2025-02-10 21:10:19,973 | <ipython-input-9-2c3670f7beb9>:21 | cid: 2338\n",
            "INFO:flwr:cid: 2338\n",
            "INFO flwr 2025-02-10 21:10:19,989 | <ipython-input-9-2c3670f7beb9>:21 | cid: 2184\n",
            "INFO:flwr:cid: 2184\n",
            "INFO flwr 2025-02-10 21:10:20,012 | <ipython-input-9-2c3670f7beb9>:21 | cid: 2399\n",
            "INFO:flwr:cid: 2399\n",
            "INFO flwr 2025-02-10 21:10:20,015 | <ipython-input-9-2c3670f7beb9>:21 | cid: 1571\n",
            "INFO:flwr:cid: 1571\n",
            "DEBUG flwr 2025-02-10 21:10:22,849 | server_returns_parameters.py:237 | fit_round 14 received 5 results and 0 failures\n",
            "DEBUG:flwr:fit_round 14 received 5 results and 0 failures\n",
            " 11%|█         | 100/891 [00:01<00:12, 65.12it/s]\n",
            "INFO flwr 2025-02-10 21:10:24,459 | server_returns_parameters.py:120 | fit progress: (14, 194.85634344816208, {'accuracy': 0.5278125}, 64.06735379099996)\n",
            "INFO:flwr:fit progress: (14, 194.85634344816208, {'accuracy': 0.5278125}, 64.06735379099996)\n",
            "INFO flwr 2025-02-10 21:10:24,463 | server_returns_parameters.py:171 | evaluate_round 14: no clients selected, cancel\n",
            "INFO:flwr:evaluate_round 14: no clients selected, cancel\n",
            "DEBUG flwr 2025-02-10 21:10:24,466 | server_returns_parameters.py:223 | fit_round 15: strategy sampled 5 clients (out of 20)\n",
            "DEBUG:flwr:fit_round 15: strategy sampled 5 clients (out of 20)\n",
            "INFO flwr 2025-02-10 21:10:24,472 | <ipython-input-9-2c3670f7beb9>:21 | cid: 2907\n",
            "INFO:flwr:cid: 2907\n",
            "INFO flwr 2025-02-10 21:10:24,474 | <ipython-input-9-2c3670f7beb9>:21 | cid: 2997\n",
            "INFO:flwr:cid: 2997\n",
            "INFO flwr 2025-02-10 21:10:24,478 | <ipython-input-9-2c3670f7beb9>:21 | cid: 1603\n",
            "INFO:flwr:cid: 1603\n",
            "INFO flwr 2025-02-10 21:10:24,480 | <ipython-input-9-2c3670f7beb9>:21 | cid: 3175\n",
            "INFO flwr 2025-02-10 21:10:24,485 | <ipython-input-9-2c3670f7beb9>:21 | cid: 2184\n",
            "INFO:flwr:cid: 3175\n",
            "INFO:flwr:cid: 2184\n",
            "DEBUG flwr 2025-02-10 21:10:26,860 | server_returns_parameters.py:237 | fit_round 15 received 5 results and 0 failures\n",
            "DEBUG:flwr:fit_round 15 received 5 results and 0 failures\n",
            " 11%|█         | 100/891 [00:01<00:10, 74.63it/s]\n",
            "INFO flwr 2025-02-10 21:10:28,242 | server_returns_parameters.py:120 | fit progress: (15, 217.04248875379562, {'accuracy': 0.5303125}, 67.85089024800004)\n",
            "INFO:flwr:fit progress: (15, 217.04248875379562, {'accuracy': 0.5303125}, 67.85089024800004)\n",
            "INFO flwr 2025-02-10 21:10:28,247 | server_returns_parameters.py:171 | evaluate_round 15: no clients selected, cancel\n",
            "INFO:flwr:evaluate_round 15: no clients selected, cancel\n",
            "DEBUG flwr 2025-02-10 21:10:28,253 | server_returns_parameters.py:223 | fit_round 16: strategy sampled 5 clients (out of 20)\n",
            "DEBUG:flwr:fit_round 16: strategy sampled 5 clients (out of 20)\n",
            "INFO flwr 2025-02-10 21:10:28,262 | <ipython-input-9-2c3670f7beb9>:21 | cid: 3119\n",
            "INFO:flwr:cid: 3119\n",
            "INFO flwr 2025-02-10 21:10:28,264 | <ipython-input-9-2c3670f7beb9>:21 | cid: 2338\n",
            "INFO:flwr:cid: 2338\n",
            "INFO flwr 2025-02-10 21:10:28,268 | <ipython-input-9-2c3670f7beb9>:21 | cid: 1260\n",
            "INFO:flwr:cid: 1260\n",
            "INFO flwr 2025-02-10 21:10:28,272 | <ipython-input-9-2c3670f7beb9>:21 | cid: 2600\n",
            "INFO:flwr:cid: 2600\n",
            "INFO flwr 2025-02-10 21:10:28,274 | <ipython-input-9-2c3670f7beb9>:21 | cid: 2184\n",
            "INFO:flwr:cid: 2184\n",
            "DEBUG flwr 2025-02-10 21:10:31,169 | server_returns_parameters.py:237 | fit_round 16 received 5 results and 0 failures\n",
            "DEBUG:flwr:fit_round 16 received 5 results and 0 failures\n",
            "  1%|          | 8/891 [00:00<00:11, 74.85it/s]"
          ]
        }
      ],
      "source": [
        "parameters_for_each_round, hist = run_simulation()"
      ]
    },
    {
      "cell_type": "code",
      "execution_count": null,
      "metadata": {
        "id": "1CMXI3Uz3D1M"
      },
      "outputs": [],
      "source": [
        "log(\n",
        "    INFO,\n",
        "    \"Size of the list with the model parameters: %s\",\n",
        "    len(parameters_for_each_round),\n",
        ")"
      ]
    },
    {
      "cell_type": "markdown",
      "metadata": {
        "id": "pY9ELp7NuXEE"
      },
      "source": [
        "---\n",
        "\n",
        "**Question 9 (Part II ✅ | Part III/MPhil ✅):**\n",
        "\n",
        "(You must provide the answer with **code** and **plots** for this question. A short written argumentation is recommended.)\n",
        "\n",
        "Now that an entire FL experiment can be trained, it is worth considering the relationship between the FL model across rounds. If we consider the final model $\\theta^N$ obtained after $N$ rounds to be the optimal model $\\theta^*$, we can ask how optimization step contributed to reaching $\\theta^*$.\n",
        "\n",
        "1. Run an FL simulation for at-least 50 rounds.\n",
        "2. Build a function which reconstitutes the update that must have been applied to model $\\theta^t$ in order to obtain $\\theta^{t+1}$, assume the `server_learning_rate` was 1.0. We shall call this update $g_t$ and treat it as a pseudo-gradient.\n",
        "3. For each round plot the cosine similarity between $g_t$ and the direction of improvement towards $\\theta^{*}$ calculated as $\\theta^{*} - \\theta_t$.\n",
        "4. What do you observe from the plots? Does every update point in the direction of the final model? If not, why do you think that is?\n",
        "\n",
        "---\n",
        "\n",
        "**Question 10 (Part III/MPhil ✅):**\n",
        "\n",
        "(You must provide the answer with **code** and **plots** for this question. A short written argumentation is recommended.)\n",
        "\n",
        " and then for\n",
        "\n",
        "1.   Read about server momentum in FL [here](https://arxiv.org/abs/2003.00295) and repeat the previous experiments using `server_learning_rate=1.0` and `server_momentum=0.9`. Discuss how the momentum impacts the direction of optimization.\n",
        "\n",
        "---"
      ]
    },
    {
      "cell_type": "code",
      "source": [
        "print(\"Number of rounds:\",  len(parameters_for_each_round) - 1)\n",
        "\n",
        "def difference_in_parameters(params1, params2):\n",
        "    return [i - j for i, j in zip(params1, params2)]\n",
        "\n",
        "reconstituted_gradients = [difference_in_parameters(i[1], j[1])\n",
        "    for i, j in zip(parameters_for_each_round[:-1], parameters_for_each_round[1:])]\n",
        "\n",
        "last_model_parameters = parameters_for_each_round[-1][1]\n",
        "directions_of_improvement = [\n",
        "    difference_in_parameters(i[1], last_model_parameters)\n",
        "    for i in parameters_for_each_round[:-1]\n",
        "]\n",
        "\n",
        "\n",
        "cosine_similarities = [\n",
        "    get_parameters_cosine_similarity(\n",
        "        reconstituted_gradient,\n",
        "        direction_of_improvement\n",
        "    )\n",
        "    for reconstituted_gradient, direction_of_improvement in zip(\n",
        "        reconstituted_gradients, directions_of_improvement)\n",
        "]\n",
        "\n",
        "plt.plot(cosine_similarities)"
      ],
      "metadata": {
        "colab": {
          "base_uri": "https://localhost:8080/",
          "height": 465
        },
        "id": "0fEXQaGO3DDH",
        "outputId": "18022f18-8faa-43d9-bc7f-7e14e93a22cd"
      },
      "execution_count": 38,
      "outputs": [
        {
          "output_type": "stream",
          "name": "stdout",
          "text": [
            "Number of rounds: 50\n"
          ]
        },
        {
          "output_type": "execute_result",
          "data": {
            "text/plain": [
              "[<matplotlib.lines.Line2D at 0x7ba171399e10>]"
            ]
          },
          "metadata": {},
          "execution_count": 38
        },
        {
          "output_type": "display_data",
          "data": {
            "text/plain": [
              "<Figure size 640x480 with 1 Axes>"
            ],
            "image/png": "[encoded data removed]"
          },
          "metadata": {}
        }
      ]
    },
    {
      "cell_type": "markdown",
      "source": [
        "**Q9.4 Response**  \n",
        "\n",
        "Not every update points in the direction of the model. When training a (typical centralised) neural network, the loss would tend to bounce around a little bit before convergence, due to the network getting stuck in local minima. Possibly in the federated case, different clients can get stuck inside their own local minima before getting \"pulled out\" by other models during the averaging phase."
      ],
      "metadata": {
        "id": "3oswyiur64cU"
      }
    },
    {
      "cell_type": "markdown",
      "metadata": {
        "id": "-WfWeMqLQ0oT"
      },
      "source": [
        "(c) 2024 Alexandru-Andrei Iacob, Lorenzo Sani"
      ]
    },
    {
      "cell_type": "code",
      "source": [],
      "metadata": {
        "id": "mnjaFzsBnXl2"
      },
      "execution_count": 37,
      "outputs": []
    }
  ],
  "metadata": {
    "colab": {
      "provenance": []
    },
    "kernelspec": {
      "display_name": "labs-MC7Y7X2c-py3.10",
      "language": "python",
      "name": "python3"
    },
    "language_info": {
      "codemirror_mode": {
        "name": "ipython",
        "version": 3
      },
      "file_extension": ".py",
      "mimetype": "text/x-python",
      "name": "python",
      "nbconvert_exporter": "python",
      "pygments_lexer": "ipython3",
      "version": "3.10.12"
    }
  },
  "nbformat": 4,
  "nbformat_minor": 0
}